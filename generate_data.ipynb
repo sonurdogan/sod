{
 "cells": [
  {
   "cell_type": "code",
   "execution_count": 1,
   "id": "russian-poverty",
   "metadata": {},
   "outputs": [],
   "source": [
    "import matplotlib.pyplot as plt\n",
    "import pandas as pd\n",
    "import numpy as np"
   ]
  },
  {
   "cell_type": "markdown",
   "id": "commercial-donna",
   "metadata": {},
   "source": [
    "Genarate Data for the transfer entropy:\n",
    "Our Data:\n",
    "x0(t)=a*x0(t-1)+noise\n",
    "x1(t)=b*x1(t-1)+b2*x1(t-2)+b3*x0(t-1)+noise\n",
    "x2(t)=c*x2(t-1)+c2*x1(t-1)+c3*x0(t-2)+noise"
   ]
  },
  {
   "cell_type": "code",
   "execution_count": 2,
   "id": "sustained-peter",
   "metadata": {},
   "outputs": [],
   "source": [
    "n_processes = 3\n",
    "n_samples = 5000\n",
    "x = np.zeros((n_processes, n_samples + 2))\n",
    "x[:, 0:2] = np.zeros((n_processes,  2))\n",
    "#x[:, 0:2] = np.random.normal(size=(n_processes, 2)) if you want to give gaussian value for initially, use this\n",
    "#our max lag is 2 according to equations so \n",
    "#if your max lag is different change x[:, 0:2] = np.zeros((n_processes,  2)) \n",
    "#ex: max_lag=3 x[:, 0:3] = np.zeros((n_processes,  3))\n",
    "\n",
    "for t in range(2, n_samples + 2):\n",
    "    x[0, t] = (0.15 * x[0, t - 1] + np.random.normal())\n",
    "    \n",
    "    x[1, t] = (0.5 * x[1, t - 1]  +0.11 * x[1, t - 2]+ 0.13* x[0, t - 1]+np.random.normal())\n",
    "    \n",
    "    x[2, t] = (0.2 * x[2, t - 1] +0.12 * x[1, t - 1]+ 0.86 * x[0, t - 2] +np.random.normal())\n",
    "    \n",
    "r=x[:,2:]\n",
    "r=r.transpose()"
   ]
  },
  {
   "cell_type": "code",
   "execution_count": 3,
   "id": "dress-contest",
   "metadata": {},
   "outputs": [
    {
     "data": {
      "text/plain": [
       "[<matplotlib.lines.Line2D at 0x7fcc6e019df0>]"
      ]
     },
     "execution_count": 3,
     "metadata": {},
     "output_type": "execute_result"
    },
    {
     "data": {
      "image/png": "[encoded data removed]",
      "text/plain": [
       "<Figure size 432x288 with 1 Axes>"
      ]
     },
     "metadata": {
      "needs_background": "light"
     },
     "output_type": "display_data"
    }
   ],
   "source": [
    "rx1=x[1,2:]\n",
    "r1=rx1.transpose()\n",
    "plt.plot(r1)"
   ]
  },
  {
   "cell_type": "code",
   "execution_count": 4,
   "id": "indie-german",
   "metadata": {},
   "outputs": [
    {
     "name": "stdout",
     "output_type": "stream",
     "text": [
      "[[-0.27747264 -0.13322817 -0.51326656]\n",
      " [ 0.69161846  0.9142523  -0.66699299]\n",
      " [ 2.92443511 -0.3136191  -0.62921591]\n",
      " ...\n",
      " [ 0.18524915 -0.41291969 -0.43543861]\n",
      " [-0.22488254  1.38704868 -2.41195035]\n",
      " [-1.52917848 -0.78121198  0.09492361]]\n"
     ]
    }
   ],
   "source": [
    "print(r)"
   ]
  },
  {
   "cell_type": "code",
   "execution_count": null,
   "id": "future-bulgarian",
   "metadata": {},
   "outputs": [],
   "source": []
  }
 ],
 "metadata": {
  "kernelspec": {
   "display_name": "Python 3",
   "language": "python",
   "name": "python3"
  },
  "language_info": {
   "codemirror_mode": {
    "name": "ipython",
    "version": 3
   },
   "file_extension": ".py",
   "mimetype": "text/x-python",
   "name": "python",
   "nbconvert_exporter": "python",
   "pygments_lexer": "ipython3",
   "version": "3.8.5"
  }
 },
 "nbformat": 4,
 "nbformat_minor": 5
}
