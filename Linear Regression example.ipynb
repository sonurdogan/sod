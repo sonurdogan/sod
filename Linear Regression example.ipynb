{
 "cells": [
  {
   "cell_type": "code",
   "execution_count": 1,
   "metadata": {},
   "outputs": [],
   "source": [
    "import findspark\n",
    "findspark.init()"
   ]
  },
  {
   "cell_type": "code",
   "execution_count": 2,
   "metadata": {},
   "outputs": [],
   "source": [
    "from pyspark import SparkContext\n",
    "from pyspark.sql import SparkSession\n",
    "from pyspark.ml.regression import LinearRegression\n",
    "from pyspark.ml.feature import VectorAssembler"
   ]
  },
  {
   "cell_type": "code",
   "execution_count": 3,
   "metadata": {},
   "outputs": [],
   "source": [
    "spark= SparkSession.builder.appName('linearr').getOrCreate()"
   ]
  },
  {
   "cell_type": "code",
   "execution_count": 4,
   "metadata": {},
   "outputs": [],
   "source": [
    "airbnbDF = spark.read.parquet(\"part-00000-tid-4320459746949313749-5c3d407c-c844-4016-97ad-2edec446aa62-6688-1-c000.snappy.parquet\")"
   ]
  },
  {
   "cell_type": "code",
   "execution_count": 5,
   "metadata": {},
   "outputs": [
    {
     "name": "stdout",
     "output_type": "stream",
     "text": [
      "+--------+---------+-----+\n",
      "|bedrooms|bathrooms|price|\n",
      "+--------+---------+-----+\n",
      "|     1.0|      1.0|170.0|\n",
      "|     2.0|      1.0|235.0|\n",
      "|     1.0|      4.0| 65.0|\n",
      "|     1.0|      4.0| 65.0|\n",
      "|     2.0|      1.5|785.0|\n",
      "|     2.0|      1.0|255.0|\n",
      "|     1.0|      1.0|139.0|\n",
      "|     1.0|      1.0|135.0|\n",
      "|     2.0|      1.0|265.0|\n",
      "|     3.0|      1.0|177.0|\n",
      "+--------+---------+-----+\n",
      "only showing top 10 rows\n",
      "\n"
     ]
    }
   ],
   "source": [
    "airbnbDF.select(\"bedrooms\",\"bathrooms\", \"price\").show(10)"
   ]
  },
  {
   "cell_type": "code",
   "execution_count": 6,
   "metadata": {},
   "outputs": [],
   "source": [
    "trainDF, testDF = airbnbDF.randomSplit([.8, .2])"
   ]
  },
  {
   "cell_type": "code",
   "execution_count": 7,
   "metadata": {},
   "outputs": [],
   "source": [
    "vecAssembler = VectorAssembler(inputCols=[\"bedrooms\",\"bathrooms\"], outputCol=\"features\")\n",
    "vecTrainDF = vecAssembler.transform(trainDF)"
   ]
  },
  {
   "cell_type": "code",
   "execution_count": 8,
   "metadata": {},
   "outputs": [
    {
     "name": "stdout",
     "output_type": "stream",
     "text": [
      "+--------+---------+-----+---------+\n",
      "|bedrooms|bathrooms|price| features|\n",
      "+--------+---------+-----+---------+\n",
      "|     1.0|      1.0|200.0|[1.0,1.0]|\n",
      "|     1.0|      1.0| 85.0|[1.0,1.0]|\n",
      "|     1.0|      1.0| 95.0|[1.0,1.0]|\n",
      "|     3.0|      3.0|250.0|[3.0,3.0]|\n",
      "|     1.0|      1.0| 45.0|[1.0,1.0]|\n",
      "+--------+---------+-----+---------+\n",
      "only showing top 5 rows\n",
      "\n"
     ]
    }
   ],
   "source": [
    "vecTrainDF.select(\"bedrooms\",\"bathrooms\",\"price\",\"features\").show(5)"
   ]
  },
  {
   "cell_type": "code",
   "execution_count": 9,
   "metadata": {},
   "outputs": [
    {
     "name": "stdout",
     "output_type": "stream",
     "text": [
      "model trained\n"
     ]
    }
   ],
   "source": [
    "lr = LinearRegression(featuresCol=\"features\", labelCol=\"price\",maxIter=10, regParam=0.5,elasticNetParam=1)\n",
    "lrModel = lr.fit(vecTrainDF)\n",
    "print(\"model trained\")"
   ]
  },
  {
   "cell_type": "code",
   "execution_count": 10,
   "metadata": {},
   "outputs": [
    {
     "name": "stdout",
     "output_type": "stream",
     "text": [
      "price= 115.85925566942744 *bedrooms + 23.32063050667552 *bathrooms + 28.032323564487733\n"
     ]
    }
   ],
   "source": [
    "katsayı_1 =lrModel.coefficients[0]\n",
    "katsayı_2=lrModel.coefficients[1]\n",
    "b = lrModel.intercept\n",
    "print(\"price=\",katsayı_1,\"*bedrooms\",\"+\",katsayı_2,\"*bathrooms\",\"+\",b)"
   ]
  },
  {
   "cell_type": "code",
   "execution_count": 11,
   "metadata": {},
   "outputs": [],
   "source": [
    "from pyspark.ml import Pipeline\n",
    "pipeline = Pipeline(stages=[vecAssembler, lr])\n",
    "pipelineModel = pipeline.fit(trainDF)"
   ]
  },
  {
   "cell_type": "code",
   "execution_count": 12,
   "metadata": {},
   "outputs": [
    {
     "name": "stdout",
     "output_type": "stream",
     "text": [
      "+--------+---------+---------+-----+------------------+\n",
      "|bedrooms|bathrooms| features|price|        prediction|\n",
      "+--------+---------+---------+-----+------------------+\n",
      "|     1.0|      1.0|[1.0,1.0]|130.0| 167.2122097405907|\n",
      "|     1.0|      1.0|[1.0,1.0]|250.0| 167.2122097405907|\n",
      "|     1.0|      1.0|[1.0,1.0]|115.0| 167.2122097405907|\n",
      "|     1.0|      1.0|[1.0,1.0]| 70.0| 167.2122097405907|\n",
      "|     1.0|      1.0|[1.0,1.0]|128.0| 167.2122097405907|\n",
      "|     1.0|      1.0|[1.0,1.0]|250.0| 167.2122097405907|\n",
      "|     1.0|      1.0|[1.0,1.0]|100.0| 167.2122097405907|\n",
      "|     2.0|      3.0|[2.0,3.0]|199.0| 329.7127264233692|\n",
      "|     1.0|      2.0|[1.0,2.0]| 71.0|190.53284024726622|\n",
      "|     2.0|      2.0|[2.0,2.0]|250.0| 306.3920959166937|\n",
      "+--------+---------+---------+-----+------------------+\n",
      "only showing top 10 rows\n",
      "\n"
     ]
    }
   ],
   "source": [
    "predDF = pipelineModel.transform(testDF)\n",
    "predDF.select(\"bedrooms\",\"bathrooms\", \"features\", \"price\", \"prediction\").show(10)"
   ]
  },
  {
   "cell_type": "markdown",
   "metadata": {},
   "source": [
    "testingDataFinal = assembler.transform(\n",
    "    testingData).select(\n",
    "    col(\"features\"), (col(\"price\")).cast(\"Int\").alias(\"price\"))\n",
    "prediction = model.transform(testingDataFinal)"
   ]
  },
  {
   "cell_type": "code",
   "execution_count": 13,
   "metadata": {},
   "outputs": [
    {
     "name": "stdout",
     "output_type": "stream",
     "text": [
      "Root Mean Square Error (RMSE): 307.42443972361843\n"
     ]
    }
   ],
   "source": [
    "from pyspark.ml.evaluation import RegressionEvaluator\n",
    "\n",
    "evaluator = RegressionEvaluator(labelCol=\"price\", predictionCol=\"prediction\", metricName=\"rmse\")\n",
    "rmse = evaluator.evaluate(predDF)\n",
    "print (\"Root Mean Square Error (RMSE):\", rmse)"
   ]
  },
  {
   "cell_type": "code",
   "execution_count": 14,
   "metadata": {},
   "outputs": [
    {
     "name": "stdout",
     "output_type": "stream",
     "text": [
      "R Squared (R2) on test data =  0.08743209744175617\n"
     ]
    }
   ],
   "source": [
    "lr_evaluator = RegressionEvaluator(predictionCol=\"prediction\",labelCol=\"price\",metricName=\"r2\")\n",
    "r2=lr_evaluator.evaluate(predDF)\n",
    "print(\"R Squared (R2) on test data = \",r2)"
   ]
  },
  {
   "cell_type": "code",
   "execution_count": 19,
   "metadata": {},
   "outputs": [
    {
     "data": {
      "image/png": "[encoded data removed]",
      "text/plain": [
       "<Figure size 432x288 with 1 Axes>"
      ]
     },
     "metadata": {},
     "output_type": "display_data"
    },
    {
     "data": {
      "image/png": "[encoded data removed]",
      "text/plain": [
       "<Figure size 432x288 with 1 Axes>"
      ]
     },
     "metadata": {
      "needs_background": "light"
     },
     "output_type": "display_data"
    }
   ],
   "source": [
    "import matplotlib.pyplot as plt\n",
    "plt.scatter(x, y)\n",
    "plt.plot(xfit, yfit)"
   ]
  },
  {
   "cell_type": "markdown",
   "metadata": {},
   "source": [
    "#Save\n",
    "pipelineModel.write().overwrite().save(\"mllinear\")"
   ]
  },
  {
   "cell_type": "markdown",
   "metadata": {},
   "source": [
    "from pyspark.ml import PipelineModel\n",
    "savedPipelineModel = PipelineModel.load(\"mllinear\")"
   ]
  }
 ],
 "metadata": {
  "kernelspec": {
   "display_name": "Python 3",
   "language": "python",
   "name": "python3"
  },
  "language_info": {
   "codemirror_mode": {
    "name": "ipython",
    "version": 3
   },
   "file_extension": ".py",
   "mimetype": "text/x-python",
   "name": "python",
   "nbconvert_exporter": "python",
   "pygments_lexer": "ipython3",
   "version": "3.8.3"
  }
 },
 "nbformat": 4,
 "nbformat_minor": 4
}
