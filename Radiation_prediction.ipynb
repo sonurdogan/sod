{
 "cells": [
  {
   "cell_type": "code",
   "execution_count": 1,
   "metadata": {},
   "outputs": [],
   "source": [
    "from pyspark.sql import SparkSession\n",
    "from pyspark.ml.regression import LinearRegression\n",
    "from pyspark.ml.feature import VectorAssembler"
   ]
  },
  {
   "cell_type": "code",
   "execution_count": 2,
   "metadata": {},
   "outputs": [],
   "source": [
    "spark= SparkSession.builder.appName('radiation_prediction').getOrCreate()\n"
   ]
  },
  {
   "cell_type": "markdown",
   "metadata": {},
   "source": [
    "More info about Data: https://earthdata.nasa.gov/learn/articles/sorce-mission-ends \n",
    "\n",
    "Data: https://www.kaggle.com/dronio/SolarEnergy\n",
    "\n",
    "I will predict Radiation according to Temperature,Pressure,Humidity,WindDirection(Degrees) Speed with Linear Regression model.\n",
    "\n"
   ]
  },
  {
   "cell_type": "code",
   "execution_count": 3,
   "metadata": {},
   "outputs": [],
   "source": [
    "data = spark.read.csv('SolarPrediction.csv',header=True , inferSchema=True)\n"
   ]
  },
  {
   "cell_type": "code",
   "execution_count": 4,
   "metadata": {},
   "outputs": [
    {
     "name": "stdout",
     "output_type": "stream",
     "text": [
      "+---------+-----------+--------+--------+----------------------+-----+\n",
      "|Radiation|Temperature|Pressure|Humidity|WindDirection(Degrees)|Speed|\n",
      "+---------+-----------+--------+--------+----------------------+-----+\n",
      "|     1.21|         48|   30.46|      59|                177.39| 5.62|\n",
      "|     1.21|         48|   30.46|      58|                176.78| 3.37|\n",
      "|     1.23|         48|   30.46|      57|                158.75| 3.37|\n",
      "|     1.21|         48|   30.46|      60|                137.71| 3.37|\n",
      "|     1.17|         48|   30.46|      62|                104.95| 5.62|\n",
      "+---------+-----------+--------+--------+----------------------+-----+\n",
      "only showing top 5 rows\n",
      "\n"
     ]
    }
   ],
   "source": [
    "data.select(\"Radiation\",\"Temperature\",\"Pressure\",\"Humidity\",\"WindDirection(Degrees)\",\"Speed\").show(5)\n"
   ]
  },
  {
   "cell_type": "code",
   "execution_count": 5,
   "metadata": {},
   "outputs": [
    {
     "name": "stdout",
     "output_type": "stream",
     "text": [
      "+-------+------------------+-----------------+------------------+------------------+----------------------+------------------+\n",
      "|summary|         Radiation|      Temperature|          Pressure|          Humidity|WindDirection(Degrees)|             Speed|\n",
      "+-------+------------------+-----------------+------------------+------------------+----------------------+------------------+\n",
      "|  count|             32686|            32686|             32686|             32686|                 32686|             32686|\n",
      "|   mean|207.12469742399261|51.10325521630055| 30.42287890839873| 75.01630667564095|    143.48982071835067| 6.243869240652154|\n",
      "| stddev|315.91638719511076|6.201157357040149|0.0546731550638987|25.990218508443192|     83.16749964761821|3.4904735500653965|\n",
      "|    min|              1.11|               34|             30.19|                 8|                  0.09|               0.0|\n",
      "|    max|           1601.26|               71|             30.56|               103|                359.95|              40.5|\n",
      "+-------+------------------+-----------------+------------------+------------------+----------------------+------------------+\n",
      "\n",
      "as we can see min radiation is 1.11\n"
     ]
    }
   ],
   "source": [
    "data.describe(\"Radiation\",\"Temperature\",\"Pressure\",\"Humidity\",\"WindDirection(Degrees)\",\"Speed\").show(5)\n",
    "print(\"as we can see min radiation is 1.11\")"
   ]
  },
  {
   "cell_type": "code",
   "execution_count": 6,
   "metadata": {},
   "outputs": [],
   "source": [
    "#Divide data for training and testing.\n",
    "trainDF,testDF=data.randomSplit([0.8,0.2])"
   ]
  },
  {
   "cell_type": "code",
   "execution_count": 7,
   "metadata": {},
   "outputs": [],
   "source": [
    "#we will use features and label as a vector. \n",
    "vec=VectorAssembler(inputCols=[\"Temperature\",\"Pressure\",\"Humidity\",\"WindDirection(Degrees)\",\"Speed\"]\n",
    "                       ,outputCol=\"features\")\n",
    "vectrain=vec.transform(trainDF)"
   ]
  },
  {
   "cell_type": "markdown",
   "metadata": {},
   "source": [
    "# Linear Regression"
   ]
  },
  {
   "cell_type": "code",
   "execution_count": 8,
   "metadata": {},
   "outputs": [],
   "source": [
    "#For more information about parameters:https://spark.apache.org/docs/1.5.2/ml-linear-methods.html .\n",
    "lr=LinearRegression(featuresCol=\"features\",labelCol=\"Radiation\",maxIter=100, regParam=0.3,elasticNetParam=1)\n"
   ]
  },
  {
   "cell_type": "code",
   "execution_count": 9,
   "metadata": {},
   "outputs": [],
   "source": [
    "lrmodel=lr.fit(vectrain)\n"
   ]
  },
  {
   "cell_type": "code",
   "execution_count": 10,
   "metadata": {},
   "outputs": [
    {
     "name": "stdout",
     "output_type": "stream",
     "text": [
      "Radiation= 38.32914558204896 *Temperature + -732.0532065309934 *Pressure + -0.2722972083072913 *Humidity + -0.2660627588181636 *WindDirection(Degrees) + 7.907915119819306 *Speed + 20529.084373526865\n"
     ]
    }
   ],
   "source": [
    "c_1=lrmodel.coefficients[0]\n",
    "c_2=lrmodel.coefficients[1]\n",
    "c_3=lrmodel.coefficients[2]\n",
    "c_4=lrmodel.coefficients[3]\n",
    "c_5=lrmodel.coefficients[4]\n",
    "b=lrmodel.intercept\n",
    "print(\"Radiation=\",c_1,\"*Temperature\",\"+\",c_2,\"*Pressure\",\"+\",c_3,\"*Humidity\",\"+\",c_4,\"*WindDirection(Degrees)\",\"+\"\n",
    "     ,c_5,\"*Speed\",\"+\",b)"
   ]
  },
  {
   "cell_type": "code",
   "execution_count": 11,
   "metadata": {},
   "outputs": [
    {
     "name": "stdout",
     "output_type": "stream",
     "text": [
      "+-----------+--------+--------+----------------------+-----+--------------------+---------+------------------+\n",
      "|Temperature|Pressure|Humidity|WindDirection(Degrees)|Speed|            features|Radiation|        prediction|\n",
      "+-----------+--------+--------+----------------------+-----+--------------------+---------+------------------+\n",
      "|         52|   30.41|     103|                270.48| 5.62|[52.0,30.41,103.0...|      3.9|204.89314869849477|\n",
      "|         51|   30.41|     103|                170.97| 5.62|[51.0,30.41,103.0...|     3.13| 193.0399082464428|\n",
      "|         51|   30.41|     103|                131.57|12.37|[51.0,30.41,103.0...|     2.57| 256.9012080026587|\n",
      "|         51|    30.4|     103|                105.55| 5.62|[51.0,30.4,103.0,...|     2.52| 217.7662659936359|\n",
      "|         51|    30.4|     103|                117.72|11.25|[51.0,30.4,103.0,...|     2.74| 259.0498443434044|\n",
      "|         51|    30.4|     103|                119.72|12.37|[51.0,30.4,103.0,...|      2.3| 267.3745837599672|\n",
      "|         51|    30.4|     103|                 90.87| 1.12|[51.0,30.4,103.0,...|     2.26|  186.086449253904|\n",
      "|         51|    30.4|     103|                 69.28| 2.25|[51.0,30.4,103.0,...|     2.63|200.76668830218114|\n",
      "|         51|    30.4|     102|                 80.72| 6.75|[51.0,30.4,102.0,...|     2.17|233.58084558879636|\n",
      "|         50|    30.4|     102|                168.14| 3.37|[50.0,30.4,102.0,...|     2.02|145.26374052587198|\n",
      "+-----------+--------+--------+----------------------+-----+--------------------+---------+------------------+\n",
      "only showing top 10 rows\n",
      "\n"
     ]
    }
   ],
   "source": [
    "from pyspark.ml import Pipeline\n",
    "pipeline=Pipeline(stages=[vec,lr])\n",
    "pipelinemodel=pipeline.fit(trainDF)\n",
    "sonuc=pipelinemodel.transform(testDF)\n",
    "sonuc.select(\"Temperature\",\"Pressure\",\"Humidity\",\"WindDirection(Degrees)\",\"Speed\",\"features\",\"Radiation\"\n",
    "             ,\"prediction\").show(10)"
   ]
  },
  {
   "cell_type": "code",
   "execution_count": 12,
   "metadata": {},
   "outputs": [
    {
     "name": "stdout",
     "output_type": "stream",
     "text": [
      "Root Mean Square Error (RMSE): 206.46128044293442\n",
      "R Squared (R2) on test data =  0.5681659836598085\n"
     ]
    }
   ],
   "source": [
    "from pyspark.ml.evaluation import RegressionEvaluator\n",
    "\n",
    "evaluator = RegressionEvaluator(labelCol=\"Radiation\", predictionCol=\"prediction\", metricName=\"rmse\")\n",
    "rmse = evaluator.evaluate(sonuc)\n",
    "print (\"Root Mean Square Error (RMSE):\", rmse)\n",
    "lr_evaluator = RegressionEvaluator(labelCol=\"Radiation\",predictionCol=\"prediction\",metricName=\"r2\")\n",
    "r2=lr_evaluator.evaluate(sonuc)\n",
    "print(\"R Squared (R2) on test data = \",r2)\n",
    "#Result doesnt look very good."
   ]
  },
  {
   "cell_type": "code",
   "execution_count": 13,
   "metadata": {},
   "outputs": [],
   "source": [
    "from pyspark.sql.functions import corr\n"
   ]
  },
  {
   "cell_type": "code",
   "execution_count": 14,
   "metadata": {},
   "outputs": [
    {
     "name": "stdout",
     "output_type": "stream",
     "text": [
      "+----------------------------+\n",
      "|corr(Temperature, Radiation)|\n",
      "+----------------------------+\n",
      "|           0.734954755435727|\n",
      "+----------------------------+\n",
      "\n"
     ]
    }
   ],
   "source": [
    "data.select(corr('Temperature','Radiation')).show()\n"
   ]
  },
  {
   "cell_type": "code",
   "execution_count": null,
   "metadata": {},
   "outputs": [],
   "source": []
  }
 ],
 "metadata": {
  "kernelspec": {
   "display_name": "Python 3",
   "language": "python",
   "name": "python3"
  },
  "language_info": {
   "codemirror_mode": {
    "name": "ipython",
    "version": 3
   },
   "file_extension": ".py",
   "mimetype": "text/x-python",
   "name": "python",
   "nbconvert_exporter": "python",
   "pygments_lexer": "ipython3",
   "version": "3.8.3"
  }
 },
 "nbformat": 4,
 "nbformat_minor": 4
}
