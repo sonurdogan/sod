{
 "cells": [
  {
   "cell_type": "code",
   "execution_count": 1,
   "metadata": {},
   "outputs": [],
   "source": [
    "from pyspark.sql import SparkSession\n",
    "from pyspark.ml.regression import LinearRegression\n",
    "from pyspark.ml.feature import VectorAssembler"
   ]
  },
  {
   "cell_type": "markdown",
   "metadata": {},
   "source": [
    "We will look at fifa19 data about football player potential.\n",
    "We will predict potential of the the player according to age and overall of the player.\n"
   ]
  },
  {
   "cell_type": "code",
   "execution_count": 2,
   "metadata": {},
   "outputs": [],
   "source": [
    "spark= SparkSession.builder.appName('rating_potential').getOrCreate()"
   ]
  },
  {
   "cell_type": "code",
   "execution_count": 3,
   "metadata": {},
   "outputs": [
    {
     "name": "stdout",
     "output_type": "stream",
     "text": [
      "+-----------------+---+-------+---------+\n",
      "|             Name|Age|Overall|Potential|\n",
      "+-----------------+---+-------+---------+\n",
      "|         L. Messi| 31|     94|       94|\n",
      "|Cristiano Ronaldo| 33|     94|       94|\n",
      "|        Neymar Jr| 26|     92|       93|\n",
      "|           De Gea| 27|     91|       93|\n",
      "|     K. De Bruyne| 27|     91|       92|\n",
      "+-----------------+---+-------+---------+\n",
      "only showing top 5 rows\n",
      "\n"
     ]
    }
   ],
   "source": [
    "data= spark.read.csv('data.csv',header=True , inferSchema=True)\n",
    "data.select(\"Name\",\"Age\",\"Overall\",\"Potential\").show(5)"
   ]
  },
  {
   "cell_type": "code",
   "execution_count": 4,
   "metadata": {},
   "outputs": [
    {
     "name": "stdout",
     "output_type": "stream",
     "text": [
      "+-------+------------------+-----------------+------------------+\n",
      "|summary|               Age|          Overall|         Potential|\n",
      "+-------+------------------+-----------------+------------------+\n",
      "|  count|             18207|            18207|             18207|\n",
      "|   mean|25.122205745043114|66.23869940132916| 71.30729939034437|\n",
      "| stddev| 4.669942713414315|6.908929611883186|6.1364955834991575|\n",
      "|    min|                16|               46|                48|\n",
      "|    max|                45|               94|                95|\n",
      "+-------+------------------+-----------------+------------------+\n",
      "\n"
     ]
    }
   ],
   "source": [
    "data.describe(\"Age\",\"Overall\",\"Potential\").show(5)"
   ]
  },
  {
   "cell_type": "code",
   "execution_count": 5,
   "metadata": {},
   "outputs": [],
   "source": [
    "#Divide data for training and testing.\n",
    "trainDF,testDF=data.randomSplit([0.8,0.2])"
   ]
  },
  {
   "cell_type": "code",
   "execution_count": 6,
   "metadata": {},
   "outputs": [],
   "source": [
    "#we will use features and label as a vector. \n",
    "vec=VectorAssembler(inputCols=[\"Age\",\"Overall\"]\n",
    "                       ,outputCol=\"features\")\n",
    "vectrain=vec.transform(trainDF)"
   ]
  },
  {
   "cell_type": "code",
   "execution_count": 7,
   "metadata": {},
   "outputs": [],
   "source": [
    "#For more information about parameters:https://spark.apache.org/docs/1.5.2/ml-linear-methods.html . I gave parameters\n",
    "#for Lasso model\n",
    "lr=LinearRegression(featuresCol=\"features\",labelCol=\"Potential\",maxIter=10, regParam=0.5,elasticNetParam=1)"
   ]
  },
  {
   "cell_type": "code",
   "execution_count": 8,
   "metadata": {},
   "outputs": [],
   "source": [
    "lrmodel=lr.fit(vectrain)"
   ]
  },
  {
   "cell_type": "code",
   "execution_count": 9,
   "metadata": {},
   "outputs": [
    {
     "name": "stdout",
     "output_type": "stream",
     "text": [
      "Features= -0.7192412886566479 *Age + 0.7325602019075078 *Overall + 40.88598316664343\n"
     ]
    }
   ],
   "source": [
    "#coefficients of our model. As we can see, age has a negative impact on potential.\n",
    "c_1=lrmodel.coefficients[0]\n",
    "c_2=lrmodel.coefficients[1]\n",
    "b=lrmodel.intercept\n",
    "print(\"Features=\",c_1,\"*Age\",\"+\",c_2,\"*Overall\",\"+\",b)"
   ]
  },
  {
   "cell_type": "code",
   "execution_count": 10,
   "metadata": {},
   "outputs": [
    {
     "name": "stdout",
     "output_type": "stream",
     "text": [
      "+-------------+---+-------+-----------+---------+-----------------+\n",
      "|         Name|Age|Overall|   features|Potential|       prediction|\n",
      "+-------------+---+-------+-----------+---------+-----------------+\n",
      "| Sergio Ramos| 32|     91|[32.0,91.0]|       91|84.53324030321392|\n",
      "|     D. Godín| 32|     90|[32.0,90.0]|       90| 83.8006801013064|\n",
      "|  David Silva| 32|     90|[32.0,90.0]|       90| 83.8006801013064|\n",
      "|      H. Kane| 24|     89|[24.0,89.0]|       91|88.82205020865207|\n",
      "|    K. Mbappé| 19|     88|[19.0,88.0]|       95| 91.6856964500278|\n",
      "|   L. Insigne| 27|     88|[27.0,88.0]|       88|85.93176614077463|\n",
      "|   M. Hummels| 29|     88|[29.0,88.0]|       88|84.49328356346133|\n",
      "|S. Handanovič| 33|     88|[33.0,88.0]|       88|81.61631840883473|\n",
      "|    G. Buffon| 40|     88|[40.0,88.0]|       88| 76.5816293882382|\n",
      "| K. Koulibaly| 27|     87|[27.0,87.0]|       90|85.19920593886711|\n",
      "+-------------+---+-------+-----------+---------+-----------------+\n",
      "only showing top 10 rows\n",
      "\n"
     ]
    }
   ],
   "source": [
    "from pyspark.ml import Pipeline\n",
    "pipeline=Pipeline(stages=[vec,lr])\n",
    "pipelinemodel=pipeline.fit(trainDF)\n",
    "sonuc=pipelinemodel.transform(testDF)\n",
    "sonuc.select(\"Name\",\"Age\",\"Overall\",\"features\",\"Potential\",\"prediction\").show(10)"
   ]
  },
  {
   "cell_type": "code",
   "execution_count": 11,
   "metadata": {},
   "outputs": [
    {
     "name": "stdout",
     "output_type": "stream",
     "text": [
      "Root Mean Square Error (RMSE): 2.7168777514246507\n"
     ]
    }
   ],
   "source": [
    "from pyspark.ml.evaluation import RegressionEvaluator\n",
    "\n",
    "evaluator = RegressionEvaluator(labelCol=\"Potential\", predictionCol=\"prediction\", metricName=\"rmse\")\n",
    "rmse = evaluator.evaluate(sonuc)\n",
    "print (\"Root Mean Square Error (RMSE):\", rmse)"
   ]
  },
  {
   "cell_type": "code",
   "execution_count": 12,
   "metadata": {},
   "outputs": [
    {
     "name": "stdout",
     "output_type": "stream",
     "text": [
      "R Squared (R2) on test data =  0.7983457417423532\n"
     ]
    }
   ],
   "source": [
    "lr_evaluator = RegressionEvaluator(labelCol=\"Potential\",predictionCol=\"prediction\",metricName=\"r2\")\n",
    "r2=lr_evaluator.evaluate(sonuc)\n",
    "print(\"R Squared (R2) on test data = \",r2)\n",
    "#R2 result looks very good."
   ]
  },
  {
   "cell_type": "code",
   "execution_count": 13,
   "metadata": {},
   "outputs": [],
   "source": [
    "from pyspark.sql.functions import corr\n"
   ]
  },
  {
   "cell_type": "code",
   "execution_count": 14,
   "metadata": {},
   "outputs": [
    {
     "name": "stdout",
     "output_type": "stream",
     "text": [
      "+------------------------+\n",
      "|corr(potential, overall)|\n",
      "+------------------------+\n",
      "|      0.6609385409937859|\n",
      "+------------------------+\n",
      "\n"
     ]
    }
   ],
   "source": [
    "data.select(corr('potential','overall')).show()\n"
   ]
  },
  {
   "cell_type": "code",
   "execution_count": 15,
   "metadata": {},
   "outputs": [
    {
     "name": "stdout",
     "output_type": "stream",
     "text": [
      "+--------------------+\n",
      "|corr(potential, age)|\n",
      "+--------------------+\n",
      "| -0.2533121074109523|\n",
      "+--------------------+\n",
      "\n"
     ]
    }
   ],
   "source": [
    "data.select(corr('potential','age')).show()\n"
   ]
  },
  {
   "cell_type": "code",
   "execution_count": null,
   "metadata": {},
   "outputs": [],
   "source": []
  }
 ],
 "metadata": {
  "kernelspec": {
   "display_name": "Python 3",
   "language": "python",
   "name": "python3"
  },
  "language_info": {
   "codemirror_mode": {
    "name": "ipython",
    "version": 3
   },
   "file_extension": ".py",
   "mimetype": "text/x-python",
   "name": "python",
   "nbconvert_exporter": "python",
   "pygments_lexer": "ipython3",
   "version": "3.8.3"
  }
 },
 "nbformat": 4,
 "nbformat_minor": 4
}
