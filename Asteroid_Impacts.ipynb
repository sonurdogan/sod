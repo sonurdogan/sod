{
 "cells": [
  {
   "cell_type": "code",
   "execution_count": 1,
   "metadata": {},
   "outputs": [],
   "source": [
    "import findspark\n",
    "findspark.init()"
   ]
  },
  {
   "cell_type": "code",
   "execution_count": 2,
   "metadata": {},
   "outputs": [],
   "source": [
    "from pyspark import SparkContext\n",
    "from pyspark.sql import SparkSession\n",
    "from pyspark.ml.regression import LinearRegression\n",
    "from pyspark.ml.feature import VectorAssembler"
   ]
  },
  {
   "cell_type": "code",
   "execution_count": 3,
   "metadata": {},
   "outputs": [],
   "source": [
    "spark= SparkSession.builder.appName('possible_Asteroid_impacts').getOrCreate()"
   ]
  },
  {
   "cell_type": "markdown",
   "metadata": {},
   "source": [
    "More info about Data: https://cneos.jpl.nasa.gov/sentry/intro.html"
   ]
  },
  {
   "cell_type": "code",
   "execution_count": 4,
   "metadata": {},
   "outputs": [],
   "source": [
    "data = spark.read.csv('impacts.csv',header=True , inferSchema=True)"
   ]
  },
  {
   "cell_type": "code",
   "execution_count": 5,
   "metadata": {},
   "outputs": [
    {
     "name": "stdout",
     "output_type": "stream",
     "text": [
      "+-----------------+------------------+----------------------+---------------------+\n",
      "|Asteroid Velocity|Asteroid Magnitude|Asteroid Diameter (km)|Maximum Palermo Scale|\n",
      "+-----------------+------------------+----------------------+---------------------+\n",
      "|            17.77|              28.3|                 0.007|                -8.31|\n",
      "|             8.98|              31.4|                 0.002|                -6.96|\n",
      "|            18.33|              31.4|                 0.002|                -6.87|\n",
      "|             4.99|              26.7|                 0.016|                -6.95|\n",
      "|            19.46|              19.2|                 0.497|                 -4.3|\n",
      "+-----------------+------------------+----------------------+---------------------+\n",
      "only showing top 5 rows\n",
      "\n"
     ]
    }
   ],
   "source": [
    "data.select(\"Asteroid Velocity\",\"Asteroid Magnitude\",\"Asteroid Diameter (km)\",\"Maximum Palermo Scale\").show(5)"
   ]
  },
  {
   "cell_type": "code",
   "execution_count": 6,
   "metadata": {},
   "outputs": [],
   "source": [
    "trainDF,testDF=data.randomSplit([0.8,0.2])"
   ]
  },
  {
   "cell_type": "code",
   "execution_count": 7,
   "metadata": {},
   "outputs": [],
   "source": [
    "vektör=VectorAssembler(inputCols=[\"Asteroid Velocity\",\"Asteroid Magnitude\",\"Asteroid Diameter (km)\"]\n",
    "                       ,outputCol=\"features\")\n",
    "vektörtrain=vektör.transform(trainDF)"
   ]
  },
  {
   "cell_type": "code",
   "execution_count": 8,
   "metadata": {},
   "outputs": [],
   "source": [
    "lr=LinearRegression(featuresCol=\"features\",labelCol=\"Maximum Palermo Scale\",maxIter=10, regParam=0.5,elasticNetParam=1)"
   ]
  },
  {
   "cell_type": "code",
   "execution_count": 9,
   "metadata": {},
   "outputs": [],
   "source": [
    "lrmodel=lr.fit(vektörtrain)"
   ]
  },
  {
   "cell_type": "code",
   "execution_count": 10,
   "metadata": {},
   "outputs": [
    {
     "name": "stdout",
     "output_type": "stream",
     "text": [
      "Features= 0.0 *Asteroid Velocity + -0.02945728734794335 *Asteroid Magnitude 0.0 *Asteroid Diameter (km) + -6.008399232005006\n"
     ]
    }
   ],
   "source": [
    "c_1=lrmodel.coefficients[0]\n",
    "c_2=lrmodel.coefficients[1]\n",
    "c_3=lrmodel.coefficients[2]\n",
    "b=lrmodel.intercept\n",
    "print(\"Features=\",c_1,\"*Asteroid Velocity\",\"+\",c_2,\"*Asteroid Magnitude\",c_3,\"*Asteroid Diameter (km)\",\"+\",b)"
   ]
  },
  {
   "cell_type": "code",
   "execution_count": 11,
   "metadata": {},
   "outputs": [
    {
     "name": "stdout",
     "output_type": "stream",
     "text": [
      "+-----------------+------------------+----------------------+------------------+---------------------+-------------------+\n",
      "|Asteroid Velocity|Asteroid Magnitude|Asteroid Diameter (km)|          features|Maximum Palermo Scale|         prediction|\n",
      "+-----------------+------------------+----------------------+------------------+---------------------+-------------------+\n",
      "|             4.17|              27.1|                 0.013| [4.17,27.1,0.013]|                -7.75| -6.806691719134271|\n",
      "|              4.9|              25.8|                 0.023|  [4.9,25.8,0.023]|                -5.38| -6.768397245581944|\n",
      "|            30.68|              18.5|                 0.679|[30.68,18.5,0.679]|                -4.25| -6.553359047941958|\n",
      "|             9.18|              24.9|                 0.036| [9.18,24.9,0.036]|                -7.59|-6.7418856869687955|\n",
      "|            20.38|              21.4|                 0.179|[20.38,21.4,0.179]|                -4.92| -6.638785181250994|\n",
      "|             8.06|              26.7|                 0.016| [8.06,26.7,0.016]|                -6.09| -6.794908804195094|\n",
      "|             7.58|              25.8|                 0.024| [7.58,25.8,0.024]|                -7.07| -6.768397245581944|\n",
      "|            15.26|              25.3|                  0.03| [15.26,25.3,0.03]|                -6.39| -6.753668601907973|\n",
      "|            25.14|              21.9|                 0.142|[25.14,21.9,0.142]|                -5.85| -6.653513824924966|\n",
      "|             4.88|              28.0|                 0.009| [4.88,28.0,0.009]|                 -6.4|  -6.83320327774742|\n",
      "+-----------------+------------------+----------------------+------------------+---------------------+-------------------+\n",
      "only showing top 10 rows\n",
      "\n"
     ]
    }
   ],
   "source": [
    "from pyspark.ml import Pipeline\n",
    "pipeline=Pipeline(stages=[vektör,lr])\n",
    "pipelinemodel=pipeline.fit(trainDF)\n",
    "sonuc=pipelinemodel.transform(testDF)\n",
    "sonuc.select(\"Asteroid Velocity\",\"Asteroid Magnitude\",\"Asteroid Diameter (km)\",\"features\",\"Maximum Palermo Scale\",\"prediction\").show(10)"
   ]
  },
  {
   "cell_type": "code",
   "execution_count": 12,
   "metadata": {},
   "outputs": [
    {
     "name": "stdout",
     "output_type": "stream",
     "text": [
      "Root Mean Square Error (RMSE): 1.409087028366552\n"
     ]
    }
   ],
   "source": [
    "from pyspark.ml.evaluation import RegressionEvaluator\n",
    "\n",
    "evaluator = RegressionEvaluator(labelCol=\"Maximum Palermo Scale\", predictionCol=\"prediction\", metricName=\"rmse\")\n",
    "rmse = evaluator.evaluate(sonuc)\n",
    "print (\"Root Mean Square Error (RMSE):\", rmse)"
   ]
  },
  {
   "cell_type": "code",
   "execution_count": 13,
   "metadata": {},
   "outputs": [
    {
     "name": "stdout",
     "output_type": "stream",
     "text": [
      "R Squared (R2) on test data =  0.0447396067322936\n"
     ]
    }
   ],
   "source": [
    "lr_evaluator = RegressionEvaluator(labelCol=\"Maximum Palermo Scale\",predictionCol=\"prediction\",metricName=\"r2\")\n",
    "r2=lr_evaluator.evaluate(sonuc)\n",
    "print(\"R Squared (R2) on test data = \",r2)"
   ]
  },
  {
   "cell_type": "code",
   "execution_count": null,
   "metadata": {},
   "outputs": [],
   "source": []
  }
 ],
 "metadata": {
  "kernelspec": {
   "display_name": "Python 3",
   "language": "python",
   "name": "python3"
  },
  "language_info": {
   "codemirror_mode": {
    "name": "ipython",
    "version": 3
   },
   "file_extension": ".py",
   "mimetype": "text/x-python",
   "name": "python",
   "nbconvert_exporter": "python",
   "pygments_lexer": "ipython3",
   "version": "3.8.3"
  }
 },
 "nbformat": 4,
 "nbformat_minor": 4
}
