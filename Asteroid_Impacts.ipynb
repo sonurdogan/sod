{
 "cells": [
  {
   "cell_type": "code",
   "execution_count": 1,
   "metadata": {},
   "outputs": [],
   "source": [
    "import findspark\n",
    "findspark.init()"
   ]
  },
  {
   "cell_type": "code",
   "execution_count": 2,
   "metadata": {},
   "outputs": [],
   "source": [
    "from pyspark import SparkContext\n",
    "from pyspark.sql import SparkSession\n",
    "from pyspark.ml.regression import LinearRegression\n",
    "from pyspark.ml.feature import VectorAssembler"
   ]
  },
  {
   "cell_type": "code",
   "execution_count": 3,
   "metadata": {},
   "outputs": [],
   "source": [
    "spark= SparkSession.builder.appName('possible_Asteroid_impacts').getOrCreate()"
   ]
  },
  {
   "cell_type": "markdown",
   "metadata": {},
   "source": [
    "More info about Data: https://cneos.jpl.nasa.gov/sentry/intro.html"
   ]
  },
  {
   "cell_type": "code",
   "execution_count": 4,
   "metadata": {},
   "outputs": [],
   "source": [
    "data = spark.read.csv('impacts.csv',header=True , inferSchema=True)"
   ]
  },
  {
   "cell_type": "code",
   "execution_count": 5,
   "metadata": {},
   "outputs": [
    {
     "name": "stdout",
     "output_type": "stream",
     "text": [
      "+------------------+----------------------+---------------------+\n",
      "|Asteroid Magnitude|Asteroid Diameter (km)|Maximum Palermo Scale|\n",
      "+------------------+----------------------+---------------------+\n",
      "|              28.3|                 0.007|                -8.31|\n",
      "|              31.4|                 0.002|                -6.96|\n",
      "|              31.4|                 0.002|                -6.87|\n",
      "|              26.7|                 0.016|                -6.95|\n",
      "|              19.2|                 0.497|                 -4.3|\n",
      "+------------------+----------------------+---------------------+\n",
      "only showing top 5 rows\n",
      "\n"
     ]
    }
   ],
   "source": [
    "data.select(\"Asteroid Magnitude\",\"Asteroid Diameter (km)\",\"Maximum Palermo Scale\").show(5)"
   ]
  },
  {
   "cell_type": "code",
   "execution_count": 6,
   "metadata": {},
   "outputs": [],
   "source": [
    "trainDF,testDF=data.randomSplit([0.8,0.2])"
   ]
  },
  {
   "cell_type": "code",
   "execution_count": 7,
   "metadata": {},
   "outputs": [],
   "source": [
    "vektör=VectorAssembler(inputCols=[\"Asteroid Magnitude\",\"Asteroid Diameter (km)\"]\n",
    "                       ,outputCol=\"features\")\n",
    "vektörtrain=vektör.transform(trainDF)"
   ]
  },
  {
   "cell_type": "code",
   "execution_count": 8,
   "metadata": {},
   "outputs": [],
   "source": [
    "lr=LinearRegression(featuresCol=\"features\",labelCol=\"Maximum Palermo Scale\",maxIter=10, regParam=0.5,elasticNetParam=1)"
   ]
  },
  {
   "cell_type": "code",
   "execution_count": 9,
   "metadata": {},
   "outputs": [],
   "source": [
    "lrmodel=lr.fit(vektörtrain)"
   ]
  },
  {
   "cell_type": "code",
   "execution_count": 11,
   "metadata": {},
   "outputs": [
    {
     "name": "stdout",
     "output_type": "stream",
     "text": [
      "Features= -0.051472315501410563 *Asteroid Magnitude + 0.0 *Asteroid Diameter (km) + -5.464962828682314\n"
     ]
    }
   ],
   "source": [
    "c_1=lrmodel.coefficients[0]\n",
    "c_2=lrmodel.coefficients[1]\n",
    "b=lrmodel.intercept\n",
    "print(\"Features=\",c_1,\"*Asteroid Magnitude\",\"+\",c_2,\"*Asteroid Diameter (km)\",\"+\",b)"
   ]
  },
  {
   "cell_type": "code",
   "execution_count": 12,
   "metadata": {},
   "outputs": [
    {
     "name": "stdout",
     "output_type": "stream",
     "text": [
      "+-----------------+------------------+----------------------+------------+---------------------+-------------------+\n",
      "|Asteroid Velocity|Asteroid Magnitude|Asteroid Diameter (km)|    features|Maximum Palermo Scale|         prediction|\n",
      "+-----------------+------------------+----------------------+------------+---------------------+-------------------+\n",
      "|            14.87|              24.2|                 0.048|[24.2,0.048]|                -3.83|  -6.71059286381645|\n",
      "|             8.09|              27.5|                 0.011|[27.5,0.011]|                -5.81| -6.880451504971104|\n",
      "|            25.43|              25.5|                 0.028|[25.5,0.028]|                -4.75| -6.777506873968283|\n",
      "|             6.19|              25.0|                 0.034|[25.0,0.034]|                -6.48| -6.751770716217578|\n",
      "|             2.11|              29.0|                 0.005|[29.0,0.005]|                -5.86|  -6.95765997822322|\n",
      "|            30.68|              18.5|                 0.679|[18.5,0.679]|                -4.25|-6.4172006654584095|\n",
      "|            22.48|              22.4|                  0.11| [22.4,0.11]|                -6.66| -6.617942695913911|\n",
      "|            12.56|              25.2|                  0.03| [25.2,0.03]|                -7.49|  -6.76206517931786|\n",
      "|            15.73|              24.8|                 0.038|[24.8,0.038]|                -7.31| -6.741476253117296|\n",
      "|            20.38|              21.4|                 0.179|[21.4,0.179]|                -4.92|-6.5664703804124995|\n",
      "+-----------------+------------------+----------------------+------------+---------------------+-------------------+\n",
      "only showing top 10 rows\n",
      "\n"
     ]
    }
   ],
   "source": [
    "from pyspark.ml import Pipeline\n",
    "pipeline=Pipeline(stages=[vektör,lr])\n",
    "pipelinemodel=pipeline.fit(trainDF)\n",
    "sonuc=pipelinemodel.transform(testDF)\n",
    "sonuc.select(\"Asteroid Velocity\",\"Asteroid Magnitude\",\"Asteroid Diameter (km)\",\"features\",\"Maximum Palermo Scale\",\"prediction\").show(10)"
   ]
  },
  {
   "cell_type": "code",
   "execution_count": 13,
   "metadata": {},
   "outputs": [
    {
     "name": "stdout",
     "output_type": "stream",
     "text": [
      "Root Mean Square Error (RMSE): 1.4146404746524983\n"
     ]
    }
   ],
   "source": [
    "from pyspark.ml.evaluation import RegressionEvaluator\n",
    "\n",
    "evaluator = RegressionEvaluator(labelCol=\"Maximum Palermo Scale\", predictionCol=\"prediction\", metricName=\"rmse\")\n",
    "rmse = evaluator.evaluate(sonuc)\n",
    "print (\"Root Mean Square Error (RMSE):\", rmse)"
   ]
  },
  {
   "cell_type": "code",
   "execution_count": 14,
   "metadata": {},
   "outputs": [
    {
     "name": "stdout",
     "output_type": "stream",
     "text": [
      "R Squared (R2) on test data =  0.059129725171863434\n"
     ]
    }
   ],
   "source": [
    "lr_evaluator = RegressionEvaluator(labelCol=\"Maximum Palermo Scale\",predictionCol=\"prediction\",metricName=\"r2\")\n",
    "r2=lr_evaluator.evaluate(sonuc)\n",
    "print(\"R Squared (R2) on test data = \",r2)"
   ]
  },
  {
   "cell_type": "code",
   "execution_count": null,
   "metadata": {},
   "outputs": [],
   "source": []
  }
 ],
 "metadata": {
  "kernelspec": {
   "display_name": "Python 3",
   "language": "python",
   "name": "python3"
  },
  "language_info": {
   "codemirror_mode": {
    "name": "ipython",
    "version": 3
   },
   "file_extension": ".py",
   "mimetype": "text/x-python",
   "name": "python",
   "nbconvert_exporter": "python",
   "pygments_lexer": "ipython3",
   "version": "3.8.3"
  }
 },
 "nbformat": 4,
 "nbformat_minor": 4
}
