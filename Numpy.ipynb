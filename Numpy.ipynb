{
 "cells": [
  {
   "cell_type": "code",
   "execution_count": 2,
   "metadata": {},
   "outputs": [],
   "source": [
    "import numpy as np"
   ]
  },
  {
   "cell_type": "code",
   "execution_count": 17,
   "metadata": {},
   "outputs": [
    {
     "data": {
      "text/plain": [
       "array([1, 2, 3, 4, 5])"
      ]
     },
     "execution_count": 17,
     "metadata": {},
     "output_type": "execute_result"
    }
   ],
   "source": [
    "np.array([1,2,3,4,5])\n"
   ]
  },
  {
   "cell_type": "code",
   "execution_count": 38,
   "metadata": {},
   "outputs": [
    {
     "data": {
      "text/plain": [
       "array(['1', '2', '3', '4'], dtype='<U1')"
      ]
     },
     "execution_count": 38,
     "metadata": {},
     "output_type": "execute_result"
    }
   ],
   "source": [
    "np.array([1,2,3,4], dtype=\"str\")"
   ]
  },
  {
   "cell_type": "code",
   "execution_count": 29,
   "metadata": {},
   "outputs": [
    {
     "data": {
      "text/plain": [
       "array([[1, 2, 3],\n",
       "       [4, 5, 6]])"
      ]
     },
     "execution_count": 29,
     "metadata": {},
     "output_type": "execute_result"
    }
   ],
   "source": [
    "b=np.array([[1,2,3],[4,5,6]])\n",
    "b"
   ]
  },
  {
   "cell_type": "code",
   "execution_count": 47,
   "metadata": {},
   "outputs": [
    {
     "name": "stdout",
     "output_type": "stream",
     "text": [
      "b shape: (2, 3)\n",
      "b size:  6\n",
      "itemsize: 8 bytes\n"
     ]
    }
   ],
   "source": [
    "print(\"b shape:\", b.shape)\n",
    "print(\"b size: \", b.size)\n",
    "print(\"itemsize:\", b.itemsize, \"bytes\")"
   ]
  },
  {
   "cell_type": "code",
   "execution_count": 19,
   "metadata": {},
   "outputs": [
    {
     "data": {
      "text/plain": [
       "array([[2, 3, 4],\n",
       "       [4, 5, 6],\n",
       "       [6, 7, 8]])"
      ]
     },
     "execution_count": 19,
     "metadata": {},
     "output_type": "execute_result"
    }
   ],
   "source": [
    "np.array([range(i, i + 3) for i in [2, 4, 6]])\n"
   ]
  },
  {
   "cell_type": "markdown",
   "metadata": {},
   "source": [
    "**"
   ]
  },
  {
   "cell_type": "code",
   "execution_count": 42,
   "metadata": {},
   "outputs": [
    {
     "data": {
      "text/plain": [
       "array([[0.8391228 , 0.28175241],\n",
       "       [0.95566042, 0.08775795],\n",
       "       [0.48259571, 0.35585621],\n",
       "       [0.20900962, 0.36169169]])"
      ]
     },
     "execution_count": 42,
     "metadata": {},
     "output_type": "execute_result"
    }
   ],
   "source": [
    "np.random.rand(4,2)\n"
   ]
  },
  {
   "cell_type": "code",
   "execution_count": 44,
   "metadata": {},
   "outputs": [
    {
     "data": {
      "text/plain": [
       "array([[7, 1, 9],\n",
       "       [6, 7, 7],\n",
       "       [7, 1, 8]])"
      ]
     },
     "execution_count": 44,
     "metadata": {},
     "output_type": "execute_result"
    }
   ],
   "source": [
    "np.random.randint(0, 10, (3, 3))"
   ]
  },
  {
   "cell_type": "code",
   "execution_count": 40,
   "metadata": {},
   "outputs": [
    {
     "data": {
      "text/plain": [
       "array([ 0,  2,  4,  6,  8, 10, 12, 14, 16, 18])"
      ]
     },
     "execution_count": 40,
     "metadata": {},
     "output_type": "execute_result"
    }
   ],
   "source": [
    "np.arange(0, 20, 2)"
   ]
  },
  {
   "cell_type": "code",
   "execution_count": 41,
   "metadata": {},
   "outputs": [
    {
     "data": {
      "text/plain": [
       "array([0.  , 0.25, 0.5 , 0.75, 1.  ])"
      ]
     },
     "execution_count": 41,
     "metadata": {},
     "output_type": "execute_result"
    }
   ],
   "source": [
    "np.linspace(0,1,5)"
   ]
  },
  {
   "cell_type": "code",
   "execution_count": 27,
   "metadata": {},
   "outputs": [
    {
     "data": {
      "text/plain": [
       "array([[3.14, 3.14, 3.14, 3.14, 3.14],\n",
       "       [3.14, 3.14, 3.14, 3.14, 3.14],\n",
       "       [3.14, 3.14, 3.14, 3.14, 3.14]])"
      ]
     },
     "execution_count": 27,
     "metadata": {},
     "output_type": "execute_result"
    }
   ],
   "source": [
    "np.full((3, 5), 3.14)\n"
   ]
  },
  {
   "cell_type": "code",
   "execution_count": 25,
   "metadata": {},
   "outputs": [
    {
     "name": "stdout",
     "output_type": "stream",
     "text": [
      "[0. 0. 0. 0. 0. 0. 0. 0. 0. 0.]\n",
      "[[0. 0.]\n",
      " [0. 0.]]\n"
     ]
    }
   ],
   "source": [
    "a=np.zeros(10)\n",
    "c=np.zeros((2,2))\n",
    "print(a)\n",
    "print(b)"
   ]
  },
  {
   "cell_type": "code",
   "execution_count": 26,
   "metadata": {},
   "outputs": [
    {
     "data": {
      "text/plain": [
       "array([1., 1.])"
      ]
     },
     "execution_count": 26,
     "metadata": {},
     "output_type": "execute_result"
    }
   ],
   "source": [
    "np.ones(2)"
   ]
  },
  {
   "cell_type": "code",
   "execution_count": 39,
   "metadata": {},
   "outputs": [
    {
     "data": {
      "text/plain": [
       "array([[[1, 1],\n",
       "        [1, 1]],\n",
       "\n",
       "       [[1, 1],\n",
       "        [1, 1]],\n",
       "\n",
       "       [[1, 1],\n",
       "        [1, 1]],\n",
       "\n",
       "       [[1, 1],\n",
       "        [1, 1]]], dtype=int32)"
      ]
     },
     "execution_count": 39,
     "metadata": {},
     "output_type": "execute_result"
    }
   ],
   "source": [
    "np.ones((4,2,2), dtype='int32')\n"
   ]
  },
  {
   "cell_type": "code",
   "execution_count": 46,
   "metadata": {},
   "outputs": [
    {
     "data": {
      "text/plain": [
       "array([[1., 0., 0.],\n",
       "       [0., 1., 0.],\n",
       "       [0., 0., 1.]])"
      ]
     },
     "execution_count": 46,
     "metadata": {},
     "output_type": "execute_result"
    }
   ],
   "source": [
    "np.eye(3,dtype=\"float\")\n"
   ]
  },
  {
   "cell_type": "markdown",
   "metadata": {},
   "source": [
    "**\n"
   ]
  },
  {
   "cell_type": "code",
   "execution_count": 3,
   "metadata": {},
   "outputs": [
    {
     "name": "stdout",
     "output_type": "stream",
     "text": [
      "[1 2 3 4 5]\n",
      "[[2 9 2 7]\n",
      " [9 3 4 6]\n",
      " [8 7 0 9]]\n"
     ]
    }
   ],
   "source": [
    "y=np.array([1,2,3,4,5])\n",
    "print(y)\n",
    "x = np.random.randint(10, size=(3, 4))\n",
    "print(x)"
   ]
  },
  {
   "cell_type": "code",
   "execution_count": 72,
   "metadata": {},
   "outputs": [
    {
     "data": {
      "text/plain": [
       "2"
      ]
     },
     "execution_count": 72,
     "metadata": {},
     "output_type": "execute_result"
    }
   ],
   "source": [
    "y[1]"
   ]
  },
  {
   "cell_type": "code",
   "execution_count": 73,
   "metadata": {},
   "outputs": [
    {
     "name": "stdout",
     "output_type": "stream",
     "text": [
      "[2 3 4 5]\n",
      "[1 2 3 4]\n",
      "[1 3 5]\n",
      "[2 4]\n",
      "[5 4 3 2 1]\n",
      "[5 3 1]\n"
     ]
    }
   ],
   "source": [
    "print(y[1:])\n",
    "print(y[:-1])\n",
    "print(y[::2])\n",
    "print(y[1::2])\n",
    "print(y[::-1])\n",
    "print(y[5::-2])"
   ]
  },
  {
   "cell_type": "code",
   "execution_count": 74,
   "metadata": {},
   "outputs": [
    {
     "data": {
      "text/plain": [
       "3"
      ]
     },
     "execution_count": 74,
     "metadata": {},
     "output_type": "execute_result"
    }
   ],
   "source": [
    "x[1,2]"
   ]
  },
  {
   "cell_type": "code",
   "execution_count": 76,
   "metadata": {},
   "outputs": [
    {
     "name": "stdout",
     "output_type": "stream",
     "text": [
      "1\n",
      "[[9 2]]\n",
      "[[1 7 7 9]\n",
      " [7 3 8 7]\n",
      " [7 9 2 9]]\n"
     ]
    }
   ],
   "source": [
    "print(x[-1,-1])\n",
    "print(x[:1, :2])\n",
    "print(x[::-1, ::-1])"
   ]
  },
  {
   "cell_type": "markdown",
   "metadata": {},
   "source": [
    "**\n"
   ]
  },
  {
   "cell_type": "code",
   "execution_count": 77,
   "metadata": {},
   "outputs": [
    {
     "data": {
      "text/plain": [
       "array([[1, 2, 3],\n",
       "       [4, 5, 6],\n",
       "       [7, 8, 9]])"
      ]
     },
     "execution_count": 77,
     "metadata": {},
     "output_type": "execute_result"
    }
   ],
   "source": [
    "np.arange(1,10,1).reshape(3,3)"
   ]
  },
  {
   "cell_type": "code",
   "execution_count": 80,
   "metadata": {},
   "outputs": [
    {
     "name": "stdout",
     "output_type": "stream",
     "text": [
      "(1, 3)\n"
     ]
    },
    {
     "data": {
      "text/plain": [
       "(1, 3)"
      ]
     },
     "execution_count": 80,
     "metadata": {},
     "output_type": "execute_result"
    }
   ],
   "source": [
    "x = np.array([1, 2, 3])\n",
    "print(x.reshape(1,3).shape)\n",
    "x.reshape(1,-1).shape"
   ]
  },
  {
   "cell_type": "markdown",
   "metadata": {},
   "source": [
    "**"
   ]
  },
  {
   "cell_type": "code",
   "execution_count": 81,
   "metadata": {},
   "outputs": [
    {
     "name": "stdout",
     "output_type": "stream",
     "text": [
      "x = [0 1 2 3]\n",
      "x + 5 = [5 6 7 8]\n",
      "x - 5 = [-5 -4 -3 -2]\n",
      "x * 2 = [0 2 4 6]\n",
      "x / 2 = [0.  0.5 1.  1.5]\n",
      "x // 2 = [0 0 1 1]\n",
      "-x =  [ 0 -1 -2 -3]\n",
      "x ** 2 =  [0 1 4 9]\n",
      "x % 2 =  [0 1 0 1]\n"
     ]
    },
    {
     "data": {
      "text/plain": [
       "array([-1.  , -2.25, -4.  , -6.25])"
      ]
     },
     "execution_count": 81,
     "metadata": {},
     "output_type": "execute_result"
    }
   ],
   "source": [
    "x = np.arange(4)\n",
    "print(\"x =\", x)\n",
    "print(\"x + 5 =\", x + 5)\n",
    "print(\"x - 5 =\", x - 5)\n",
    "print(\"x * 2 =\", x * 2)\n",
    "print(\"x / 2 =\", x / 2)\n",
    "print(\"x // 2 =\", x // 2)\n",
    "print(\"-x = \", -x)\n",
    "print(\"x ** 2 = \", x ** 2)\n",
    "print(\"x % 2 = \", x % 2)\n",
    "-(0.5*x+1) ** 2"
   ]
  },
  {
   "cell_type": "code",
   "execution_count": 85,
   "metadata": {},
   "outputs": [
    {
     "data": {
      "text/plain": [
       "array([2, 1, 0, 1, 2])"
      ]
     },
     "execution_count": 85,
     "metadata": {},
     "output_type": "execute_result"
    }
   ],
   "source": [
    "x = np.array([-2, -1, 0, 1, 2])\n",
    "abs(x)"
   ]
  },
  {
   "cell_type": "code",
   "execution_count": 86,
   "metadata": {},
   "outputs": [
    {
     "name": "stdout",
     "output_type": "stream",
     "text": [
      "theta      =  [0.         1.57079633 3.14159265]\n",
      "sin(theta) =  [0.0000000e+00 1.0000000e+00 1.2246468e-16]\n",
      "cos(theta) =  [ 1.000000e+00  6.123234e-17 -1.000000e+00]\n",
      "tan(theta) =  [ 0.00000000e+00  1.63312394e+16 -1.22464680e-16]\n"
     ]
    }
   ],
   "source": [
    "theta = np.linspace(0, np.pi, 3)\n",
    "print(\"theta      = \", theta)\n",
    "print(\"sin(theta) = \", np.sin(theta))\n",
    "print(\"cos(theta) = \", np.cos(theta))\n",
    "print(\"tan(theta) = \", np.tan(theta))"
   ]
  },
  {
   "cell_type": "code",
   "execution_count": 87,
   "metadata": {},
   "outputs": [
    {
     "name": "stdout",
     "output_type": "stream",
     "text": [
      "x     = [1, 2, 3]\n",
      "e^x   = [ 2.71828183  7.3890561  20.08553692]\n",
      "2^x   = [2. 4. 8.]\n",
      "3^x   = [ 3  9 27]\n"
     ]
    }
   ],
   "source": [
    "x = [1, 2, 3]\n",
    "print(\"x     =\", x)\n",
    "print(\"e^x   =\", np.exp(x))\n",
    "print(\"2^x   =\", np.exp2(x))\n",
    "print(\"3^x   =\", np.power(3, x))"
   ]
  },
  {
   "cell_type": "code",
   "execution_count": 88,
   "metadata": {},
   "outputs": [
    {
     "name": "stdout",
     "output_type": "stream",
     "text": [
      "x        = [1, 2, 4, 10]\n",
      "ln(x)    = [0.         0.69314718 1.38629436 2.30258509]\n",
      "log2(x)  = [0.         1.         2.         3.32192809]\n",
      "log10(x) = [0.         0.30103    0.60205999 1.        ]\n"
     ]
    }
   ],
   "source": [
    "x = [1, 2, 4, 10]\n",
    "print(\"x        =\", x)\n",
    "print(\"ln(x)    =\", np.log(x))\n",
    "print(\"log2(x)  =\", np.log2(x))\n",
    "print(\"log10(x) =\", np.log10(x))"
   ]
  },
  {
   "cell_type": "code",
   "execution_count": 95,
   "metadata": {},
   "outputs": [
    {
     "name": "stdout",
     "output_type": "stream",
     "text": [
      "[[1 2 3]\n",
      " [4 5 6]]\n",
      "1\n",
      "6\n",
      "[3 6]\n",
      "[4 5 6]\n",
      "[5 7 9]\n"
     ]
    }
   ],
   "source": [
    "stats = np.array([[1,2,3],[4,5,6]])\n",
    "print(stats)\n",
    "print(np.min(stats))\n",
    "print(np.max(stats))\n",
    "print(np.max(stats, axis=1))\n",
    "print(np.max(stats, axis=0))\n",
    "print(np.sum(stats, axis=0))\n"
   ]
  },
  {
   "cell_type": "markdown",
   "metadata": {},
   "source": [
    "Example:"
   ]
  },
  {
   "cell_type": "code",
   "execution_count": 92,
   "metadata": {},
   "outputs": [
    {
     "name": "stdout",
     "output_type": "stream",
     "text": [
      "[[0.86189309 1.25153078]\n",
      " [1.52054403 1.67735462]]\n",
      "[[0.549772   0.45821751]\n",
      " [0.79990845 0.8331029 ]]\n",
      "[[0.549772   0.79990845]\n",
      " [0.45821751 0.8331029 ]]\n"
     ]
    }
   ],
   "source": [
    "arr=np.random.rand(2,2)\n",
    "arr2=np.random.rand(2,2)\n",
    "arr3=arr2.transpose()\n",
    "print(arr+arr2)\n",
    "print(arr2)\n",
    "print(arr3)"
   ]
  },
  {
   "cell_type": "code",
   "execution_count": 100,
   "metadata": {},
   "outputs": [
    {
     "name": "stdout",
     "output_type": "stream",
     "text": [
      "[[0.         0.63888399 0.58553443 0.38866145 0.00844277]\n",
      " [0.         0.88019321 0.881042   0.94338483 0.61881696]\n",
      " [0.         0.42589966 0.32660539 0.80591799 0.90505645]\n",
      " [0.         0.57050834 0.62193092 0.05357384 0.0691444 ]]\n",
      "[[0.0, 0.638883985188824, 0.5855344277073076, 0.3886614543918516, 0.008442765550072617], [0.0, 0.8801932144084094, 0.8810419999577821, 0.9433848252604947, 0.6188169641015988], [0.0, 0.42589966000906654, 0.32660538639897596, 0.8059179916732071, 0.9050564524864629], [0.0, 0.5705083428671044, 0.6219309170299596, 0.05357383899441426, 0.06914439622435486]]\n"
     ]
    }
   ],
   "source": [
    "#örnek\n",
    "matrix=np.random.rand(4,4)\n",
    "sifirmatrix= np.zeros((4,1))\n",
    "matrixekleme=np.append(sifirmatrix,matrix, axis=1)\n",
    "print(matrixekleme)\n",
    "sonuc=matrixekleme.tolist()\n",
    "print(sonuc)"
   ]
  },
  {
   "cell_type": "code",
   "execution_count": 107,
   "metadata": {},
   "outputs": [
    {
     "name": "stdout",
     "output_type": "stream",
     "text": [
      "[ True  True False False False]\n"
     ]
    }
   ],
   "source": [
    "x = np.array([1, 2, 3, 4, 5])\n",
    "print(x<3)"
   ]
  },
  {
   "cell_type": "code",
   "execution_count": 120,
   "metadata": {},
   "outputs": [
    {
     "name": "stdout",
     "output_type": "stream",
     "text": [
      "[12.65565115 11.10946073 11.33027806 13.71751367 12.79518855 12.02692534\n",
      " 11.36634831 12.35195897 13.38623528 11.81412829 13.33897545 11.584783\n",
      " 10.9612984  12.95922609 13.14872569 12.63660605 11.73386169 12.01319469\n",
      " 14.71538754 13.98959256 11.36549203 12.8779837  13.37856278 11.65757592\n",
      " 12.8936695  11.76581265 12.78389178 13.00781942 11.98204499 11.96502\n",
      " 12.30541781 10.86916381 13.38749211 13.10450724 11.63489325 11.9363865\n",
      " 11.7550237  11.98441752  9.95497597 12.48901322 11.73310622 10.63456132\n",
      " 12.50752537 11.52987821 13.41493474 12.17052542 13.14655143 12.98851015\n",
      " 11.86412636 11.39806419 13.85806246 10.95679097 10.32011626  9.9845144\n",
      " 12.64519514 11.58865542 13.76153285 10.56829469 11.83228622 12.06415663\n",
      " 12.4955916   9.60731469 13.72862718 11.67006592 13.27631301 15.12699429\n",
      " 12.69578975 11.83547609 11.30623234 11.18753891 11.88749413 12.22893471\n",
      " 10.67465347 12.81711309 13.58780608 12.23805735 11.55182117 11.43337993\n",
      " 10.88956686 11.92884209 12.59567131 10.94725858 13.89808199 10.87555955\n",
      " 10.3380727  11.63466822 12.51766629 10.60772387 12.8288934  12.06881608\n",
      " 12.53035737 13.5162843  11.66226343 13.66474788 11.83023109 13.29114305\n",
      " 11.94234087 13.34991294 12.02011209 12.08409173 13.41075918 11.28193107\n",
      " 11.44890154 12.59542035 10.99422392 13.08550576 12.19047429 10.71914974\n",
      " 12.93155027 13.45212896 12.14937549 12.17833133 11.01048213 11.60253219\n",
      " 12.73221159 11.22336889 12.01102188 11.7259101  12.08930957 13.06863858\n",
      " 12.85499037 11.56402237 11.1133299  12.80988347 11.76117233 12.57989417\n",
      " 11.95792306 10.65179378 12.75207661 11.54083244 11.92439492 12.42413041\n",
      " 11.81058676 12.75916898 11.85189083 12.70368793 12.21525242 11.281445\n",
      " 10.73536292 10.96313178 11.73509455 12.41896198 10.53730754 11.9192424\n",
      " 11.91141556 12.488067   12.38069498 10.48050683 12.29651768 10.8616042\n",
      " 10.71635514 12.38718417 10.98483589 12.96576148 12.05026723 13.45772494\n",
      " 12.44304789 12.20729849 11.58631953 11.37808709 12.3643416  12.39943608\n",
      " 12.54248105 13.28043224 11.79588668 12.71803917 12.03964784 12.47445545\n",
      " 13.16002004 11.05232365 10.63676108 13.44340599 13.28303287 11.7477317\n",
      " 10.85960853 11.69168613 11.54876144 11.72400223 12.17857308 12.31984506\n",
      " 11.08436084 13.17777453 12.83280284 11.509048   11.85766344 12.29336584\n",
      " 10.93325228 13.33283928 10.90255623 12.27698171 12.03880824 11.72447386\n",
      " 11.2026699  13.37806333 11.38861262 10.77107406 11.81857176 13.80879868\n",
      " 11.65983284 13.10010954 13.06789568 12.49432293 11.34003593 11.19966096\n",
      " 11.33248778 13.9194944  11.03135834 11.08458409 10.54264542 11.79779551\n",
      " 12.44261655 12.10454243 12.37849022 13.72245368 12.72590932 13.6851189\n",
      " 10.01258337 11.43553387 12.35460708 10.74853366 11.59187167 11.23650676\n",
      " 11.10945633 12.11494496 11.86648121 10.25654903 12.16859647 13.08535689\n",
      " 13.01337563 10.98397673 13.10515852 12.14474854 13.90991551 11.39520943\n",
      " 13.03356618 11.62277717 12.6007504  13.18791099 13.26676035 11.75234317\n",
      " 11.56811634 12.63857212 11.38864458 11.8229833  12.72567737 11.20115977\n",
      " 11.34726361 14.22097911 11.54627576 11.91763618 12.27605698 10.13171246\n",
      " 12.02694222 13.1722875  12.32629139 13.89131342 12.93092854 11.37925718\n",
      " 14.06938234 10.80489056 14.42649105 13.04124459 11.7397438  12.49105874\n",
      " 12.89237451 11.66886651 11.77777204 12.13879388 12.22296745 13.4023319\n",
      " 12.95627661 12.88412462 13.3254691  12.15858523 11.22654566 12.46113544\n",
      "  9.84612491 13.32541219 13.67724584 11.64496955 13.48500899 11.62099651\n",
      " 13.01445915 11.46698422 11.68490419 12.09396636 14.32565494 12.91484663\n",
      "  9.82440177 12.80775183 13.05827793 10.5345535  11.14343308 10.98280553\n",
      " 11.15396605 11.94717532 11.470565   11.03785041 11.1673569  11.56293625\n",
      " 12.22772828 13.18681287 13.39445179 11.85139874 12.26650384 13.45922229\n",
      " 11.79297182 10.98574015 12.63755716  8.50815218 11.65659203 11.96689808\n",
      " 11.80298578 12.67740144 13.03253498 12.44761745 12.23565925 10.97316208\n",
      " 13.66576979 13.39112018 12.96832561 12.96889313 10.73213134 10.95235338\n",
      " 12.60888879 13.03951103 10.99968366 13.27895623 10.62794923 13.18518117\n",
      " 11.35104901 12.95481145 11.73704064 11.8873453  10.75713093 11.61265077\n",
      " 11.97906148 12.46114744 10.07946345 12.58924056 14.28801459 11.9171157\n",
      " 11.40964462 12.81539265 11.67322925 10.61053652 12.50654819 11.30446231\n",
      " 10.88692118 12.09588949 12.69266143 11.38677555 10.72841854 11.93689516\n",
      " 12.7179951  10.96980287 13.42054574 11.85468192 11.91885971 13.14966956\n",
      " 12.6853939  10.34787695  9.3162892  12.58154773 11.76444759 12.64420212\n",
      " 11.83211223 10.44123506 12.72971951  9.47777761 10.16317906 11.60899794\n",
      " 11.26825923 11.16315954 10.1016322  12.76153128 12.05534016 11.93593497\n",
      " 12.45120001 12.28446707 12.78217179 12.96030713  9.95399501 13.13002166\n",
      " 11.52056679 10.97255431 13.53191346 12.03950237 10.94206962 12.66419262\n",
      " 11.73066139 11.91867031 11.51494907 12.4181132  13.88727541 12.84649907\n",
      " 10.88982828 12.91457009 11.56852664 11.97175079 13.07869244 11.95642648\n",
      " 13.25273709 13.09353728 12.52747174 11.23596895 12.07483017 12.04533198\n",
      " 11.23074331 11.9078441  13.05221039 13.00436201 11.52352268 10.31471792\n",
      " 12.43312853 10.74518855 11.01675564 12.21685469 12.32914702 10.80696607\n",
      " 12.1351014  12.94155573 13.30029936 10.39845771 11.88780042 11.5914397\n",
      " 13.27147504 12.9882206  14.03986726 11.90650776 11.1371403  12.90266489\n",
      " 12.38651626 11.82272175 10.98576379 14.13289346 11.91221048 11.48158715\n",
      " 10.04731474 12.42873693 11.96598027 11.12136606  8.66834952 12.50421981\n",
      " 12.13250911 11.73299146 11.94659088 12.55610762 12.48070152 12.59419407\n",
      " 10.94684194 11.48419869 11.12087087 10.97139243 11.58894858 10.70664152\n",
      " 11.07625934 12.95326254 10.5724666  11.65803681 13.59251266 11.37176736\n",
      " 11.23341495 10.29035077 14.12178384 12.41554196 10.77024892 12.66439052\n",
      " 12.66780888 13.97018107 11.50925345 11.40577045 12.26371768 12.7107013\n",
      " 13.47157767 11.18680872 11.24681261 12.35763811 11.76432596 11.7618838\n",
      " 11.55030011 12.48266992 11.73136429 12.21407375 11.90375668 12.22248394\n",
      " 12.00591637 11.91374515 12.12540197 11.30555143 11.60899707 11.6930582\n",
      " 11.20156988 12.62543264 13.35063168 13.56615961 11.69573629 11.49940906\n",
      " 12.39142299 12.41880832]\n"
     ]
    }
   ],
   "source": [
    "import pandas as pd\n",
    "data = pd.read_csv('PysparkRegressions/Ecommerce_Customers.csv')\n",
    "timeonapp = np.array(data['Time on App'])\n",
    "print(timeonapp)"
   ]
  },
  {
   "cell_type": "code",
   "execution_count": 114,
   "metadata": {},
   "outputs": [
    {
     "name": "stdout",
     "output_type": "stream",
     "text": [
      "Maximum time on app: 15.12699429\n"
     ]
    }
   ],
   "source": [
    "print(\"Maximum time on app:\", timeonapp.max())\n"
   ]
  },
  {
   "cell_type": "code",
   "execution_count": 116,
   "metadata": {},
   "outputs": [],
   "source": [
    "%matplotlib inline\n",
    "import matplotlib.pyplot as plt\n",
    "import seaborn; seaborn.set()"
   ]
  },
  {
   "cell_type": "code",
   "execution_count": 121,
   "metadata": {},
   "outputs": [
    {
     "data": {
      "image/png": "[encoded data removed]",
      "text/plain": [
       "<Figure size 432x288 with 1 Axes>"
      ]
     },
     "metadata": {},
     "output_type": "display_data"
    }
   ],
   "source": [
    "plt.hist(timeonapp)\n",
    "plt.title('Time On Our App')\n",
    "plt.xlabel('timeonapp (sn)')\n",
    "plt.ylabel('number');"
   ]
  },
  {
   "cell_type": "code",
   "execution_count": null,
   "metadata": {},
   "outputs": [],
   "source": []
  }
 ],
 "metadata": {
  "kernelspec": {
   "display_name": "Python 3",
   "language": "python",
   "name": "python3"
  },
  "language_info": {
   "codemirror_mode": {
    "name": "ipython",
    "version": 3
   },
   "file_extension": ".py",
   "mimetype": "text/x-python",
   "name": "python",
   "nbconvert_exporter": "python",
   "pygments_lexer": "ipython3",
   "version": "3.8.3"
  }
 },
 "nbformat": 4,
 "nbformat_minor": 4
}
