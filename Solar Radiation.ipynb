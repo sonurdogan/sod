{
 "cells": [
  {
   "cell_type": "code",
   "execution_count": 1,
   "metadata": {},
   "outputs": [],
   "source": [
    "import findspark\n",
    "findspark.init()"
   ]
  },
  {
   "cell_type": "code",
   "execution_count": 2,
   "metadata": {},
   "outputs": [],
   "source": [
    "from pyspark import SparkContext\n",
    "from pyspark.sql import SparkSession\n",
    "from pyspark.ml.regression import LinearRegression\n",
    "from pyspark.ml.feature import VectorAssembler"
   ]
  },
  {
   "cell_type": "code",
   "execution_count": 3,
   "metadata": {},
   "outputs": [],
   "source": [
    "spark= SparkSession.builder.appName('solar_radiation').getOrCreate()"
   ]
  },
  {
   "cell_type": "markdown",
   "metadata": {},
   "source": [
    "More info about Data: https://earthdata.nasa.gov/learn/articles/sorce-mission-ends\n",
    "Data: https://www.kaggle.com/dronio/SolarEnergy"
   ]
  },
  {
   "cell_type": "code",
   "execution_count": 4,
   "metadata": {},
   "outputs": [],
   "source": [
    "data = spark.read.csv('SolarPrediction.csv',header=True , inferSchema=True)"
   ]
  },
  {
   "cell_type": "code",
   "execution_count": 5,
   "metadata": {},
   "outputs": [
    {
     "name": "stdout",
     "output_type": "stream",
     "text": [
      "+---------+-----------+--------+--------+----------------------+-----+\n",
      "|Radiation|Temperature|Pressure|Humidity|WindDirection(Degrees)|Speed|\n",
      "+---------+-----------+--------+--------+----------------------+-----+\n",
      "|     1.21|         48|   30.46|      59|                177.39| 5.62|\n",
      "|     1.21|         48|   30.46|      58|                176.78| 3.37|\n",
      "|     1.23|         48|   30.46|      57|                158.75| 3.37|\n",
      "|     1.21|         48|   30.46|      60|                137.71| 3.37|\n",
      "|     1.17|         48|   30.46|      62|                104.95| 5.62|\n",
      "+---------+-----------+--------+--------+----------------------+-----+\n",
      "only showing top 5 rows\n",
      "\n"
     ]
    }
   ],
   "source": [
    "data.select(\"Radiation\",\"Temperature\",\"Pressure\",\"Humidity\",\"WindDirection(Degrees)\",\"Speed\").show(5)"
   ]
  },
  {
   "cell_type": "code",
   "execution_count": 6,
   "metadata": {},
   "outputs": [],
   "source": [
    "trainDF,testDF=data.randomSplit([0.8,0.2])"
   ]
  },
  {
   "cell_type": "code",
   "execution_count": 7,
   "metadata": {},
   "outputs": [],
   "source": [
    "vektör=VectorAssembler(inputCols=[\"Temperature\",\"Pressure\",\"Humidity\",\"WindDirection(Degrees)\",\"Speed\"]\n",
    "                       ,outputCol=\"features\")\n",
    "vektörtrain=vektör.transform(trainDF)"
   ]
  },
  {
   "cell_type": "code",
   "execution_count": 8,
   "metadata": {},
   "outputs": [],
   "source": [
    "lr=LinearRegression(featuresCol=\"features\",labelCol=\"Radiation\",maxIter=1000, regParam=0.5,elasticNetParam=1)"
   ]
  },
  {
   "cell_type": "code",
   "execution_count": 9,
   "metadata": {},
   "outputs": [],
   "source": [
    "lrmodel=lr.fit(vektörtrain)"
   ]
  },
  {
   "cell_type": "code",
   "execution_count": 10,
   "metadata": {},
   "outputs": [
    {
     "name": "stdout",
     "output_type": "stream",
     "text": [
      "Radiation= 38.19829874683544 *Temperature + -724.3487913572842 *Pressure + -0.26064215626232173 *Humidity + -0.264572540737894 *WindDirection(Degrees) + 7.893527870556228 *Speed + 20300.135639332224\n"
     ]
    }
   ],
   "source": [
    "c_1=lrmodel.coefficients[0]\n",
    "c_2=lrmodel.coefficients[1]\n",
    "c_3=lrmodel.coefficients[2]\n",
    "c_4=lrmodel.coefficients[3]\n",
    "c_5=lrmodel.coefficients[4]\n",
    "b=lrmodel.intercept\n",
    "print(\"Radiation=\",c_1,\"*Temperature\",\"+\",c_2,\"*Pressure\",\"+\",c_3,\"*Humidity\",\"+\",c_4,\"*WindDirection(Degrees)\",\"+\"\n",
    "     ,c_5,\"*Speed\",\"+\",b)"
   ]
  },
  {
   "cell_type": "code",
   "execution_count": 11,
   "metadata": {
    "scrolled": true
   },
   "outputs": [
    {
     "name": "stdout",
     "output_type": "stream",
     "text": [
      "+-----------+--------+--------+----------------------+-----+--------------------+---------+------------------+\n",
      "|Temperature|Pressure|Humidity|WindDirection(Degrees)|Speed|            features|Radiation|        prediction|\n",
      "+-----------+--------+--------+----------------------+-----+--------------------+---------+------------------+\n",
      "|         51|   30.43|     103|                 77.27|11.25|[51.0,30.43,103.0...|     2.58|247.82768064459742|\n",
      "|         51|   30.43|     103|                 67.85|  4.5|[51.0,30.43,103.0...|     2.15|197.03864085209352|\n",
      "|         51|    30.4|     103|                 87.85|  4.5|[51.0,30.4,103.0,...|     1.94|213.47765377805626|\n",
      "|         51|    30.4|     103|                 78.56|  9.0|[51.0,30.4,103.0,...|     2.27|251.45640809901306|\n",
      "|         49|    30.4|     102|                145.36| 7.87|[49.0,30.4,102.0,...|     2.03|148.72732054658263|\n",
      "|         49|   30.41|     102|                133.75|  9.0|[49.0,30.41,102.0...|     2.34|153.47520632470332|\n",
      "|         49|   30.41|     102|                125.24|12.37|[49.0,30.41,102.0...|     2.63|182.32790757015755|\n",
      "|         50|   30.41|     102|                159.86| 7.87|[50.0,30.41,102.0...|     1.85|175.84582953914287|\n",
      "|         49|   30.41|     102|                164.16|  9.0|[49.0,30.41,102.0...|     1.71|145.42955536086447|\n",
      "|         48|   30.42|      86|                120.92|  9.0|[48.0,30.42,86.0,...|     1.87|115.59815986216199|\n",
      "+-----------+--------+--------+----------------------+-----+--------------------+---------+------------------+\n",
      "only showing top 10 rows\n",
      "\n"
     ]
    }
   ],
   "source": [
    "from pyspark.ml import Pipeline\n",
    "pipeline=Pipeline(stages=[vektör,lr])\n",
    "pipelinemodel=pipeline.fit(trainDF)\n",
    "sonuc=pipelinemodel.transform(testDF)\n",
    "sonuc.select(\"Temperature\",\"Pressure\",\"Humidity\",\"WindDirection(Degrees)\",\"Speed\",\"features\",\"Radiation\"\n",
    "             ,\"prediction\").show(10)"
   ]
  },
  {
   "cell_type": "code",
   "execution_count": 12,
   "metadata": {},
   "outputs": [
    {
     "name": "stdout",
     "output_type": "stream",
     "text": [
      "Root Mean Square Error (RMSE): 210.5354552193049\n"
     ]
    }
   ],
   "source": [
    "from pyspark.ml.evaluation import RegressionEvaluator\n",
    "\n",
    "evaluator = RegressionEvaluator(labelCol=\"Radiation\", predictionCol=\"prediction\", metricName=\"rmse\")\n",
    "rmse = evaluator.evaluate(sonuc)\n",
    "print (\"Root Mean Square Error (RMSE):\", rmse)"
   ]
  },
  {
   "cell_type": "code",
   "execution_count": 13,
   "metadata": {},
   "outputs": [
    {
     "name": "stdout",
     "output_type": "stream",
     "text": [
      "R Squared (R2) on test data =  0.5648505042418364\n"
     ]
    }
   ],
   "source": [
    "lr_evaluator = RegressionEvaluator(labelCol=\"Radiation\",predictionCol=\"prediction\",metricName=\"r2\")\n",
    "r2=lr_evaluator.evaluate(sonuc)\n",
    "print(\"R Squared (R2) on test data = \",r2)"
   ]
  },
  {
   "cell_type": "code",
   "execution_count": null,
   "metadata": {},
   "outputs": [],
   "source": []
  }
 ],
 "metadata": {
  "kernelspec": {
   "display_name": "Python 3",
   "language": "python",
   "name": "python3"
  },
  "language_info": {
   "codemirror_mode": {
    "name": "ipython",
    "version": 3
   },
   "file_extension": ".py",
   "mimetype": "text/x-python",
   "name": "python",
   "nbconvert_exporter": "python",
   "pygments_lexer": "ipython3",
   "version": "3.8.3"
  }
 },
 "nbformat": 4,
 "nbformat_minor": 4
}
