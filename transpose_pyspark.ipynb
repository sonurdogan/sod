{
 "cells": [
  {
   "cell_type": "code",
   "execution_count": 1,
   "metadata": {},
   "outputs": [],
   "source": [
    "class deneme:\n",
    "    def __init__(self,satır,sutun):\n",
    "        self.satır=satır\n",
    "        self.sutun=sutun\n",
    "        import numpy as np\n",
    "        self.matrix=np.random.rand(self.satır,self.sutun)\n",
    "        self.sifirmatrix= np.zeros(shape=(4,1))\n",
    "        self.matrixekleme=np.append(self.sifirmatrix, self.matrix, axis=1)\n",
    "        self.sonuc=self.matrixekleme.tolist()\n",
    "    def ters(self):\n",
    "        import numpy as np\n",
    "        tryy=self.matrix.transpose()\n",
    "        return tryy"
   ]
  },
  {
   "cell_type": "code",
   "execution_count": 2,
   "metadata": {},
   "outputs": [
    {
     "name": "stdout",
     "output_type": "stream",
     "text": [
      "[[0.62566087 0.73460533 0.18096592 0.51874825]\n",
      " [0.42410499 0.43881725 0.86495312 0.19058479]\n",
      " [0.57291865 0.55115683 0.13498338 0.6521097 ]\n",
      " [0.04722341 0.53176933 0.30244142 0.02344014]]\n"
     ]
    }
   ],
   "source": [
    "x=deneme(4,4)\n",
    "print(x.matrix)\n"
   ]
  },
  {
   "cell_type": "code",
   "execution_count": 3,
   "metadata": {},
   "outputs": [],
   "source": [
    "import findspark\n",
    "findspark.init()"
   ]
  },
  {
   "cell_type": "code",
   "execution_count": 4,
   "metadata": {},
   "outputs": [],
   "source": [
    "from pyspark.sql import SparkSession,types\n",
    "from pyspark.sql import SQLContext\n"
   ]
  },
  {
   "cell_type": "code",
   "execution_count": 5,
   "metadata": {},
   "outputs": [],
   "source": [
    "spark=SparkSession.builder.master(\"local\").appName(\"rddtodf\").getOrCreate()"
   ]
  },
  {
   "cell_type": "code",
   "execution_count": 8,
   "metadata": {},
   "outputs": [],
   "source": [
    "sc=spark.sparkContext"
   ]
  },
  {
   "cell_type": "code",
   "execution_count": 9,
   "metadata": {},
   "outputs": [],
   "source": [
    "a=x.sonuc"
   ]
  },
  {
   "cell_type": "code",
   "execution_count": 10,
   "metadata": {},
   "outputs": [],
   "source": [
    "rdd4=sc.parallelize(a).toDF([\"a\",\"b\",\"c\",\"d\"])"
   ]
  },
  {
   "cell_type": "code",
   "execution_count": 11,
   "metadata": {},
   "outputs": [],
   "source": [
    "import pandas as pd"
   ]
  },
  {
   "cell_type": "code",
   "execution_count": 12,
   "metadata": {},
   "outputs": [
    {
     "data": {
      "text/html": [
       "<div>\n",
       "<style scoped>\n",
       "    .dataframe tbody tr th:only-of-type {\n",
       "        vertical-align: middle;\n",
       "    }\n",
       "\n",
       "    .dataframe tbody tr th {\n",
       "        vertical-align: top;\n",
       "    }\n",
       "\n",
       "    .dataframe thead th {\n",
       "        text-align: right;\n",
       "    }\n",
       "</style>\n",
       "<table border=\"1\" class=\"dataframe\">\n",
       "  <thead>\n",
       "    <tr style=\"text-align: right;\">\n",
       "      <th>a</th>\n",
       "      <th>0.0</th>\n",
       "      <th>0.0</th>\n",
       "      <th>0.0</th>\n",
       "      <th>0.0</th>\n",
       "    </tr>\n",
       "  </thead>\n",
       "  <tbody>\n",
       "    <tr>\n",
       "      <th>b</th>\n",
       "      <td>0.625661</td>\n",
       "      <td>0.424105</td>\n",
       "      <td>0.572919</td>\n",
       "      <td>0.047223</td>\n",
       "    </tr>\n",
       "    <tr>\n",
       "      <th>c</th>\n",
       "      <td>0.734605</td>\n",
       "      <td>0.438817</td>\n",
       "      <td>0.551157</td>\n",
       "      <td>0.531769</td>\n",
       "    </tr>\n",
       "    <tr>\n",
       "      <th>d</th>\n",
       "      <td>0.180966</td>\n",
       "      <td>0.864953</td>\n",
       "      <td>0.134983</td>\n",
       "      <td>0.302441</td>\n",
       "    </tr>\n",
       "    <tr>\n",
       "      <th>_5</th>\n",
       "      <td>0.518748</td>\n",
       "      <td>0.190585</td>\n",
       "      <td>0.652110</td>\n",
       "      <td>0.023440</td>\n",
       "    </tr>\n",
       "  </tbody>\n",
       "</table>\n",
       "</div>"
      ],
      "text/plain": [
       "a        0.0       0.0       0.0       0.0\n",
       "b   0.625661  0.424105  0.572919  0.047223\n",
       "c   0.734605  0.438817  0.551157  0.531769\n",
       "d   0.180966  0.864953  0.134983  0.302441\n",
       "_5  0.518748  0.190585  0.652110  0.023440"
      ]
     },
     "execution_count": 12,
     "metadata": {},
     "output_type": "execute_result"
    }
   ],
   "source": [
    "rdd4.toPandas().set_index(\"a\").transpose()"
   ]
  },
  {
   "cell_type": "code",
   "execution_count": 13,
   "metadata": {},
   "outputs": [
    {
     "name": "stdout",
     "output_type": "stream",
     "text": [
      "[[0.62566087 0.42410499 0.57291865 0.04722341]\n",
      " [0.73460533 0.43881725 0.55115683 0.53176933]\n",
      " [0.18096592 0.86495312 0.13498338 0.30244142]\n",
      " [0.51874825 0.19058479 0.6521097  0.02344014]]\n"
     ]
    }
   ],
   "source": [
    "print(x.ters())"
   ]
  },
  {
   "cell_type": "code",
   "execution_count": 14,
   "metadata": {},
   "outputs": [],
   "source": [
    "rdd2=sc.parallelize(x.ters())"
   ]
  },
  {
   "cell_type": "code",
   "execution_count": 15,
   "metadata": {},
   "outputs": [
    {
     "data": {
      "text/plain": [
       "[array([0.62566087, 0.42410499, 0.57291865, 0.04722341]),\n",
       " array([0.73460533, 0.43881725, 0.55115683, 0.53176933]),\n",
       " array([0.18096592, 0.86495312, 0.13498338, 0.30244142]),\n",
       " array([0.51874825, 0.19058479, 0.6521097 , 0.02344014])]"
      ]
     },
     "execution_count": 15,
     "metadata": {},
     "output_type": "execute_result"
    }
   ],
   "source": [
    "rdd2.collect()"
   ]
  },
  {
   "cell_type": "code",
   "execution_count": null,
   "metadata": {},
   "outputs": [],
   "source": []
  }
 ],
 "metadata": {
  "kernelspec": {
   "display_name": "Python 3",
   "language": "python",
   "name": "python3"
  },
  "language_info": {
   "codemirror_mode": {
    "name": "ipython",
    "version": 3
   },
   "file_extension": ".py",
   "mimetype": "text/x-python",
   "name": "python",
   "nbconvert_exporter": "python",
   "pygments_lexer": "ipython3",
   "version": "3.8.3"
  }
 },
 "nbformat": 4,
 "nbformat_minor": 4
}
