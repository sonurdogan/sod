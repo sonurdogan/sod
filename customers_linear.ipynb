{
 "cells": [
  {
   "cell_type": "code",
   "execution_count": 1,
   "metadata": {},
   "outputs": [],
   "source": [
    "from pyspark.sql import SparkSession\n",
    "from pyspark.ml.regression import LinearRegression"
   ]
  },
  {
   "cell_type": "code",
   "execution_count": 2,
   "metadata": {},
   "outputs": [],
   "source": [
    "spark= SparkSession.builder.appName('linearr').getOrCreate()"
   ]
  },
  {
   "cell_type": "markdown",
   "metadata": {},
   "source": [
    "I will predict Yearly Amount Spent according to Avg Session Length Time on App Time on Website Length of Membership with Linear Regression model."
   ]
  },
  {
   "cell_type": "code",
   "execution_count": 3,
   "metadata": {},
   "outputs": [],
   "source": [
    "data = spark.read.csv('Ecommerce_Customers.csv', \n",
    "                                 header=True , inferSchema=True)"
   ]
  },
  {
   "cell_type": "code",
   "execution_count": 4,
   "metadata": {},
   "outputs": [],
   "source": [
    "trainDF,testDF=data.randomSplit([0.7,0.3])"
   ]
  },
  {
   "cell_type": "code",
   "execution_count": 5,
   "metadata": {},
   "outputs": [],
   "source": [
    "from pyspark.ml.feature import VectorAssembler\n"
   ]
  },
  {
   "cell_type": "code",
   "execution_count": 6,
   "metadata": {},
   "outputs": [
    {
     "name": "stdout",
     "output_type": "stream",
     "text": [
      "+--------------------+--------------------+------------------+-----------+---------------+--------------------+-------------------+\n",
      "|               Email|             Address|Avg Session Length|Time on App|Time on Website|Length of Membership|Yearly Amount Spent|\n",
      "+--------------------+--------------------+------------------+-----------+---------------+--------------------+-------------------+\n",
      "|mstephenson@ferna...|835 Frank TunnelW...|       34.49726773|12.65565115|    39.57766802|         4.082620633|         587.951054|\n",
      "|   hduke@hotmail.com|4547 Archer Commo...|       31.92627203|11.10946073|    37.26895887|         2.664034182|        392.2049334|\n",
      "|    pallen@yahoo.com|24645 Valerie Uni...|       33.00091476|11.33027806|    37.11059744|         4.104543202|        487.5475049|\n",
      "+--------------------+--------------------+------------------+-----------+---------------+--------------------+-------------------+\n",
      "only showing top 3 rows\n",
      "\n"
     ]
    }
   ],
   "source": [
    "data.show(3)"
   ]
  },
  {
   "cell_type": "code",
   "execution_count": 7,
   "metadata": {},
   "outputs": [
    {
     "name": "stdout",
     "output_type": "stream",
     "text": [
      "+-------+------------------+------------------+------------------+--------------------+\n",
      "|summary|Avg Session Length|       Time on App|   Time on Website|Length of Membership|\n",
      "+-------+------------------+------------------+------------------+--------------------+\n",
      "|  count|               500|               500|               500|                 500|\n",
      "|   mean|    33.05319351824|12.052487936928012|37.060445421080004|  3.5334615559300007|\n",
      "| stddev|0.9925631111602911|0.9942156084624618|1.0104889068105993|  0.9992775024367542|\n",
      "|    min|       29.53242897|       8.508152176|       33.91384725|          0.26990109|\n",
      "|    max|       36.13966249|       15.12699429|       40.00518164|         6.922689335|\n",
      "+-------+------------------+------------------+------------------+--------------------+\n",
      "\n"
     ]
    }
   ],
   "source": [
    "data.describe(\"Avg Session Length\",\"Time on App\",\"Time on Website\",\"Length of Membership\").show(6)"
   ]
  },
  {
   "cell_type": "code",
   "execution_count": 8,
   "metadata": {},
   "outputs": [],
   "source": [
    "vec=VectorAssembler(inputCols=[\"Avg Session Length\",\"Time on App\",\"Time on Website\",\"Length of Membership\"]\n",
    "                       ,outputCol=\"features\")\n",
    "vectrain=vec.transform(trainDF)"
   ]
  },
  {
   "cell_type": "code",
   "execution_count": 9,
   "metadata": {},
   "outputs": [],
   "source": [
    "#For more information about parameters:https://spark.apache.org/docs/1.5.2/ml-linear-methods.html\n",
    "lr=LinearRegression(featuresCol=\"features\",labelCol=\"Yearly Amount Spent\")"
   ]
  },
  {
   "cell_type": "code",
   "execution_count": 10,
   "metadata": {},
   "outputs": [],
   "source": [
    "lrmodel=lr.fit(vectrain)"
   ]
  },
  {
   "cell_type": "code",
   "execution_count": 11,
   "metadata": {},
   "outputs": [
    {
     "name": "stdout",
     "output_type": "stream",
     "text": [
      "Features= [25.441099229567953,37.93266667507862,0.4630526022128153,61.30052161032559] -1032.861345404639\n"
     ]
    }
   ],
   "source": [
    "katsayı_1=lrmodel.coefficients\n",
    "b=lrmodel.intercept\n",
    "print(\"Features=\",katsayı_1,b)"
   ]
  },
  {
   "cell_type": "code",
   "execution_count": 12,
   "metadata": {},
   "outputs": [
    {
     "name": "stdout",
     "output_type": "stream",
     "text": [
      "+-----------+---------------+--------------------+-------------------+------------------+\n",
      "|Time on App|Time on Website|            features|Yearly Amount Spent|        prediction|\n",
      "+-----------+---------------+--------------------+-------------------+------------------+\n",
      "|10.16317906|    37.76304108|[33.7051128,10.16...|        521.2407802| 520.5901086144186|\n",
      "|13.45772494|    37.23880567|[32.44952156,13.4...|        503.9783791| 500.7310862684501|\n",
      "|12.00591637|    36.53409567|[33.45229528,12.0...|        576.4776072| 579.3978264746054|\n",
      "|11.44890154|    37.58019043|[32.42569728,11.4...|        420.7376732|402.35549443636455|\n",
      "|10.73536292|    37.45837473|[33.54774794,10.7...|        476.1914133| 482.0263748363857|\n",
      "|10.97316208|    36.60950715|[32.84879283,10.9...|        404.8245289| 412.0344747781169|\n",
      "|10.25654903|    36.14390846|[32.83694077,10.2...|        256.6705823| 256.7392917606485|\n",
      "|11.48158715|    39.24096484|[31.96732095,11.4...|        445.7498412| 450.6654329440057|\n",
      "|12.38718417|     37.4311591|[32.88710465,12.3...|         684.163431| 683.4329378741722|\n",
      "|12.02692534|    34.47687763|[33.87103788,12.0...|        637.1024479| 637.7879051512969|\n",
      "+-----------+---------------+--------------------+-------------------+------------------+\n",
      "only showing top 10 rows\n",
      "\n"
     ]
    }
   ],
   "source": [
    "from pyspark.ml import Pipeline\n",
    "pipeline=Pipeline(stages=[vec,lr])\n",
    "pipelinemodel=pipeline.fit(trainDF)\n",
    "testsonuc=pipelinemodel.transform(testDF)\n",
    "testsonuc.select(\"Time on App\",\"Time on Website\",\"features\",\"Yearly Amount Spent\",\"prediction\").show(10)"
   ]
  },
  {
   "cell_type": "code",
   "execution_count": 15,
   "metadata": {},
   "outputs": [
    {
     "name": "stdout",
     "output_type": "stream",
     "text": [
      "Root Mean Square Error (RMSE): 9.870628188825025\n",
      "R Squared (R2) on test data =  0.986100570457219\n"
     ]
    }
   ],
   "source": [
    "from pyspark.ml.evaluation import RegressionEvaluator\n",
    "\n",
    "evaluator = RegressionEvaluator(labelCol=\"Yearly Amount Spent\", predictionCol=\"prediction\", metricName=\"rmse\")\n",
    "rmse = evaluator.evaluate(testsonuc)\n",
    "print (\"Root Mean Square Error (RMSE):\", rmse)\n",
    "lr_evaluator = RegressionEvaluator(labelCol=\"Yearly Amount Spent\",predictionCol=\"prediction\",metricName=\"r2\")\n",
    "r2=lr_evaluator.evaluate(testsonuc)\n",
    "print(\"R Squared (R2) on test data = \",r2)\n",
    "#Result looks so good."
   ]
  },
  {
   "cell_type": "code",
   "execution_count": null,
   "metadata": {},
   "outputs": [],
   "source": []
  }
 ],
 "metadata": {
  "kernelspec": {
   "display_name": "Python 3",
   "language": "python",
   "name": "python3"
  },
  "language_info": {
   "codemirror_mode": {
    "name": "ipython",
    "version": 3
   },
   "file_extension": ".py",
   "mimetype": "text/x-python",
   "name": "python",
   "nbconvert_exporter": "python",
   "pygments_lexer": "ipython3",
   "version": "3.8.3"
  }
 },
 "nbformat": 4,
 "nbformat_minor": 4
}
